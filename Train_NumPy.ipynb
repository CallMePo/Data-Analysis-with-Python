{
 "cells": [
  {
   "cell_type": "code",
   "execution_count": 5,
   "id": "319cb0b7-ff0c-48e1-9d5a-050d982750c4",
   "metadata": {},
   "outputs": [
    {
     "name": "stdout",
     "output_type": "stream",
     "text": [
      "[1 2 4 5]\n"
     ]
    }
   ],
   "source": [
    "import numpy as np\n",
    "#create vector\n",
    "a=np.array([1,2,4,5])\n",
    "\n",
    "print(a)"
   ]
  },
  {
   "cell_type": "code",
   "execution_count": 9,
   "id": "e8041f89-4678-477b-a3c9-510740775efc",
   "metadata": {},
   "outputs": [
    {
     "name": "stdout",
     "output_type": "stream",
     "text": [
      "[1.  1.5 2.  2.5 3.  3.5 4.  4.5 5.  5.5 6.  6.5 7.  7.5 8.  8.5]\n"
     ]
    }
   ],
   "source": [
    "#vector dengan range\n",
    "b=np.arange(1,9,0.5)\n",
    "\n",
    "print(b)"
   ]
  },
  {
   "cell_type": "code",
   "execution_count": 13,
   "id": "aefc4d87-a987-4846-b572-72530f0f43b5",
   "metadata": {},
   "outputs": [
    {
     "name": "stdout",
     "output_type": "stream",
     "text": [
      "[  1.    25.75  50.5   75.25 100.  ]\n"
     ]
    }
   ],
   "source": [
    "#create linspace a.k.a dibagi\n",
    "c=np.linspace(1,100,5)\n",
    "print(c)"
   ]
  },
  {
   "cell_type": "code",
   "execution_count": 16,
   "id": "e3e699b4-d766-41ed-8bd6-9c883e90f211",
   "metadata": {},
   "outputs": [
    {
     "name": "stdout",
     "output_type": "stream",
     "text": [
      "[[1 2 3]\n",
      " [4 5 6]]\n"
     ]
    }
   ],
   "source": [
    "#create matriks\n",
    "d=np.array([(1,2,3),(4,5,6)])\n",
    "print(d)"
   ]
  },
  {
   "cell_type": "code",
   "execution_count": 17,
   "id": "a6358987-4023-43f7-b2e0-a28abf7a840f",
   "metadata": {},
   "outputs": [
    {
     "name": "stdout",
     "output_type": "stream",
     "text": [
      "[0. 0. 0. 0. 0.]\n"
     ]
    }
   ],
   "source": [
    "#create vector w/ 0's \n",
    "e=np.zeros(5)\n",
    "print(e)"
   ]
  },
  {
   "cell_type": "code",
   "execution_count": 22,
   "id": "663fc200-4e63-4d1e-9312-766b6c09d398",
   "metadata": {},
   "outputs": [
    {
     "name": "stdout",
     "output_type": "stream",
     "text": [
      "[[0. 0. 0. 0. 0.]\n",
      " [0. 0. 0. 0. 0.]\n",
      " [0. 0. 0. 0. 0.]\n",
      " [0. 0. 0. 0. 0.]\n",
      " [0. 0. 0. 0. 0.]]\n"
     ]
    }
   ],
   "source": [
    "#create matriks w/ 0's\n",
    "f=np.zeros((5,5)) #.ones\n",
    "print(f)"
   ]
  },
  {
   "cell_type": "code",
   "execution_count": 24,
   "id": "ead65168-2eaf-4300-9b6d-b3dddf0be233",
   "metadata": {},
   "outputs": [
    {
     "name": "stdout",
     "output_type": "stream",
     "text": [
      "[[1. 0. 0. 0.]\n",
      " [0. 1. 0. 0.]\n",
      " [0. 0. 1. 0.]\n",
      " [0. 0. 0. 1.]]\n"
     ]
    }
   ],
   "source": [
    "#matrix identity\n",
    "g1=np.identity((3))\n",
    "g2=np.eye((4))\n",
    "print(g2)"
   ]
  },
  {
   "cell_type": "code",
   "execution_count": 25,
   "id": "2758b588-00c5-4c1f-8a79-332f14ca4b24",
   "metadata": {},
   "outputs": [
    {
     "name": "stdout",
     "output_type": "stream",
     "text": [
      "[[1 2 3]\n",
      " [4 5 6]]\n"
     ]
    }
   ],
   "source": [
    "#matrix methode 2 arrays as rows\n",
    "h1=np.array([1,2,3])\n",
    "h2=np.array([4,5,6])\n",
    "h3=np.stack((h1,h2))\n",
    "print(h3)"
   ]
  },
  {
   "cell_type": "code",
   "execution_count": 27,
   "id": "1b5f1e34-ae6b-452a-a4a3-96eed19d7e73",
   "metadata": {},
   "outputs": [
    {
     "name": "stdout",
     "output_type": "stream",
     "text": [
      "[[12 22]\n",
      " [13 23]\n",
      " [14 24]]\n"
     ]
    }
   ],
   "source": [
    "#matrix methode 2 arrays as collumn\n",
    "g1=np.array([12,13,14])\n",
    "g2=np.array([22,23,24])\n",
    "g3=np.column_stack((g1,g2))\n",
    "print(g3)"
   ]
  },
  {
   "cell_type": "code",
   "execution_count": null,
   "id": "d7521859-777a-462c-a12d-72bd750b91e9",
   "metadata": {},
   "outputs": [],
   "source": []
  }
 ],
 "metadata": {
  "kernelspec": {
   "display_name": "Python 3 (ipykernel)",
   "language": "python",
   "name": "python3"
  },
  "language_info": {
   "codemirror_mode": {
    "name": "ipython",
    "version": 3
   },
   "file_extension": ".py",
   "mimetype": "text/x-python",
   "name": "python",
   "nbconvert_exporter": "python",
   "pygments_lexer": "ipython3",
   "version": "3.9.12"
  }
 },
 "nbformat": 4,
 "nbformat_minor": 5
}
