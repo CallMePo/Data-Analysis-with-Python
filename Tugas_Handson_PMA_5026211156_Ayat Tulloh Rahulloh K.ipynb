{
 "cells": [
  {
   "cell_type": "markdown",
   "metadata": {
    "id": "QvSdk6dP_Zs9"
   },
   "source": [
    "# Libraries"
   ]
  },
  {
   "cell_type": "code",
   "execution_count": 81,
   "metadata": {
    "id": "PvbKV4l89ZE9"
   },
   "outputs": [],
   "source": [
    "import pandas as pd\n",
    "import numpy as np\n",
    "import matplotlib.pyplot as plt\n",
    "from matplotlib import ticker\n",
    "import warnings\n",
    "warnings.filterwarnings('ignore')\n",
    "import seaborn as sns\n",
    "import sklearn\n",
    "from sklearn import datasets, preprocessing\n",
    "from sklearn.model_selection import train_test_split\n",
    "from sklearn.naive_bayes import GaussianNB\n",
    "from sklearn.preprocessing import StandardScaler\n",
    "from sklearn.metrics import accuracy_score\n",
    "from sklearn.metrics import classification_report\n",
    "from sklearn.neighbors import KNeighborsClassifier\n",
    "from sklearn.model_selection import cross_val_score\n",
    "from sklearn.svm import SVC\n",
    "from sklearn.linear_model import LogisticRegression\n",
    "from sklearn.tree import DecisionTreeClassifier\n",
    "from sklearn.preprocessing import LabelEncoder\n",
    "sns.set(color_codes=True)\n",
    "%matplotlib inline\n"
   ]
  },
  {
   "cell_type": "markdown",
   "metadata": {
    "id": "0FHm-KQ7_u93"
   },
   "source": [
    "# Import Dataset"
   ]
  },
  {
   "cell_type": "markdown",
   "metadata": {
    "id": "4oAJmgEcAisr"
   },
   "source": [
    "\n",
    "*   gunakan link ini untuk mengimport dataset : https://raw.githubusercontent.com/bayuazra23/datasets/main/penguins.csv\n",
    "*   Simpan dataset dalam variabel bernama \"df\"\n",
    "*   Variabel terikat untuk dataset ini adalah species dari pinguin, dengan kolom lain sebagai variable bebas\n",
    "\n",
    "\n"
   ]
  },
  {
   "cell_type": "code",
   "execution_count": 2,
   "metadata": {
    "id": "j5CjCk6M_zm7"
   },
   "outputs": [
    {
     "data": {
      "text/html": [
       "<div>\n",
       "<style scoped>\n",
       "    .dataframe tbody tr th:only-of-type {\n",
       "        vertical-align: middle;\n",
       "    }\n",
       "\n",
       "    .dataframe tbody tr th {\n",
       "        vertical-align: top;\n",
       "    }\n",
       "\n",
       "    .dataframe thead th {\n",
       "        text-align: right;\n",
       "    }\n",
       "</style>\n",
       "<table border=\"1\" class=\"dataframe\">\n",
       "  <thead>\n",
       "    <tr style=\"text-align: right;\">\n",
       "      <th></th>\n",
       "      <th>species</th>\n",
       "      <th>island</th>\n",
       "      <th>bill_length_mm</th>\n",
       "      <th>bill_depth_mm</th>\n",
       "      <th>flipper_length_mm</th>\n",
       "      <th>body_mass_g</th>\n",
       "      <th>sex</th>\n",
       "    </tr>\n",
       "  </thead>\n",
       "  <tbody>\n",
       "    <tr>\n",
       "      <th>0</th>\n",
       "      <td>Adelie</td>\n",
       "      <td>Torgersen</td>\n",
       "      <td>39.1</td>\n",
       "      <td>18.7</td>\n",
       "      <td>181.0</td>\n",
       "      <td>3750.0</td>\n",
       "      <td>male</td>\n",
       "    </tr>\n",
       "    <tr>\n",
       "      <th>1</th>\n",
       "      <td>Adelie</td>\n",
       "      <td>Torgersen</td>\n",
       "      <td>39.5</td>\n",
       "      <td>17.4</td>\n",
       "      <td>186.0</td>\n",
       "      <td>3800.0</td>\n",
       "      <td>female</td>\n",
       "    </tr>\n",
       "    <tr>\n",
       "      <th>2</th>\n",
       "      <td>Adelie</td>\n",
       "      <td>Torgersen</td>\n",
       "      <td>40.3</td>\n",
       "      <td>18.0</td>\n",
       "      <td>195.0</td>\n",
       "      <td>3250.0</td>\n",
       "      <td>female</td>\n",
       "    </tr>\n",
       "    <tr>\n",
       "      <th>3</th>\n",
       "      <td>Adelie</td>\n",
       "      <td>Torgersen</td>\n",
       "      <td>NaN</td>\n",
       "      <td>NaN</td>\n",
       "      <td>NaN</td>\n",
       "      <td>NaN</td>\n",
       "      <td>NaN</td>\n",
       "    </tr>\n",
       "    <tr>\n",
       "      <th>4</th>\n",
       "      <td>Adelie</td>\n",
       "      <td>Torgersen</td>\n",
       "      <td>36.7</td>\n",
       "      <td>19.3</td>\n",
       "      <td>193.0</td>\n",
       "      <td>3450.0</td>\n",
       "      <td>female</td>\n",
       "    </tr>\n",
       "    <tr>\n",
       "      <th>...</th>\n",
       "      <td>...</td>\n",
       "      <td>...</td>\n",
       "      <td>...</td>\n",
       "      <td>...</td>\n",
       "      <td>...</td>\n",
       "      <td>...</td>\n",
       "      <td>...</td>\n",
       "    </tr>\n",
       "    <tr>\n",
       "      <th>339</th>\n",
       "      <td>Chinstrap</td>\n",
       "      <td>Dream</td>\n",
       "      <td>55.8</td>\n",
       "      <td>19.8</td>\n",
       "      <td>207.0</td>\n",
       "      <td>4000.0</td>\n",
       "      <td>male</td>\n",
       "    </tr>\n",
       "    <tr>\n",
       "      <th>340</th>\n",
       "      <td>Chinstrap</td>\n",
       "      <td>Dream</td>\n",
       "      <td>43.5</td>\n",
       "      <td>18.1</td>\n",
       "      <td>202.0</td>\n",
       "      <td>3400.0</td>\n",
       "      <td>female</td>\n",
       "    </tr>\n",
       "    <tr>\n",
       "      <th>341</th>\n",
       "      <td>Chinstrap</td>\n",
       "      <td>Dream</td>\n",
       "      <td>49.6</td>\n",
       "      <td>18.2</td>\n",
       "      <td>193.0</td>\n",
       "      <td>3775.0</td>\n",
       "      <td>male</td>\n",
       "    </tr>\n",
       "    <tr>\n",
       "      <th>342</th>\n",
       "      <td>Chinstrap</td>\n",
       "      <td>Dream</td>\n",
       "      <td>50.8</td>\n",
       "      <td>19.0</td>\n",
       "      <td>210.0</td>\n",
       "      <td>4100.0</td>\n",
       "      <td>male</td>\n",
       "    </tr>\n",
       "    <tr>\n",
       "      <th>343</th>\n",
       "      <td>Chinstrap</td>\n",
       "      <td>Dream</td>\n",
       "      <td>50.2</td>\n",
       "      <td>18.7</td>\n",
       "      <td>198.0</td>\n",
       "      <td>3775.0</td>\n",
       "      <td>female</td>\n",
       "    </tr>\n",
       "  </tbody>\n",
       "</table>\n",
       "<p>344 rows × 7 columns</p>\n",
       "</div>"
      ],
      "text/plain": [
       "       species     island  bill_length_mm  bill_depth_mm  flipper_length_mm  \\\n",
       "0       Adelie  Torgersen            39.1           18.7              181.0   \n",
       "1       Adelie  Torgersen            39.5           17.4              186.0   \n",
       "2       Adelie  Torgersen            40.3           18.0              195.0   \n",
       "3       Adelie  Torgersen             NaN            NaN                NaN   \n",
       "4       Adelie  Torgersen            36.7           19.3              193.0   \n",
       "..         ...        ...             ...            ...                ...   \n",
       "339  Chinstrap      Dream            55.8           19.8              207.0   \n",
       "340  Chinstrap      Dream            43.5           18.1              202.0   \n",
       "341  Chinstrap      Dream            49.6           18.2              193.0   \n",
       "342  Chinstrap      Dream            50.8           19.0              210.0   \n",
       "343  Chinstrap      Dream            50.2           18.7              198.0   \n",
       "\n",
       "     body_mass_g     sex  \n",
       "0         3750.0    male  \n",
       "1         3800.0  female  \n",
       "2         3250.0  female  \n",
       "3            NaN     NaN  \n",
       "4         3450.0  female  \n",
       "..           ...     ...  \n",
       "339       4000.0    male  \n",
       "340       3400.0  female  \n",
       "341       3775.0    male  \n",
       "342       4100.0    male  \n",
       "343       3775.0  female  \n",
       "\n",
       "[344 rows x 7 columns]"
      ]
     },
     "execution_count": 2,
     "metadata": {},
     "output_type": "execute_result"
    }
   ],
   "source": [
    "df=pd.read_csv('https://raw.githubusercontent.com/bayuazra23/datasets/main/penguins.csv')\n",
    "df"
   ]
  },
  {
   "cell_type": "markdown",
   "metadata": {
    "id": "tc57oFyNEcmg"
   },
   "source": [
    "## Label encoder untuk kolom kategorikal (run, sesuaikan kalau ada error saja)"
   ]
  },
  {
   "cell_type": "markdown",
   "metadata": {
    "id": "kYOLiFBj_z6p"
   },
   "source": [
    "# EDA"
   ]
  },
  {
   "cell_type": "markdown",
   "metadata": {
    "id": "dN0RjBk-VsmF"
   },
   "source": [
    "**General Rule** : Silahkan tambah business question lain yang bisa kalian formulasikan"
   ]
  },
  {
   "cell_type": "markdown",
   "metadata": {
    "id": "seKVABYA_6Kz"
   },
   "source": [
    "## Tunjukan 5 data random dari dataset"
   ]
  },
  {
   "cell_type": "code",
   "execution_count": 3,
   "metadata": {
    "id": "cDWvfV-C_2PK"
   },
   "outputs": [
    {
     "data": {
      "text/html": [
       "<div>\n",
       "<style scoped>\n",
       "    .dataframe tbody tr th:only-of-type {\n",
       "        vertical-align: middle;\n",
       "    }\n",
       "\n",
       "    .dataframe tbody tr th {\n",
       "        vertical-align: top;\n",
       "    }\n",
       "\n",
       "    .dataframe thead th {\n",
       "        text-align: right;\n",
       "    }\n",
       "</style>\n",
       "<table border=\"1\" class=\"dataframe\">\n",
       "  <thead>\n",
       "    <tr style=\"text-align: right;\">\n",
       "      <th></th>\n",
       "      <th>species</th>\n",
       "      <th>island</th>\n",
       "      <th>bill_length_mm</th>\n",
       "      <th>bill_depth_mm</th>\n",
       "      <th>flipper_length_mm</th>\n",
       "      <th>body_mass_g</th>\n",
       "      <th>sex</th>\n",
       "    </tr>\n",
       "  </thead>\n",
       "  <tbody>\n",
       "    <tr>\n",
       "      <th>0</th>\n",
       "      <td>Adelie</td>\n",
       "      <td>Torgersen</td>\n",
       "      <td>39.1</td>\n",
       "      <td>18.7</td>\n",
       "      <td>181.0</td>\n",
       "      <td>3750.0</td>\n",
       "      <td>male</td>\n",
       "    </tr>\n",
       "    <tr>\n",
       "      <th>1</th>\n",
       "      <td>Adelie</td>\n",
       "      <td>Torgersen</td>\n",
       "      <td>39.5</td>\n",
       "      <td>17.4</td>\n",
       "      <td>186.0</td>\n",
       "      <td>3800.0</td>\n",
       "      <td>female</td>\n",
       "    </tr>\n",
       "    <tr>\n",
       "      <th>2</th>\n",
       "      <td>Adelie</td>\n",
       "      <td>Torgersen</td>\n",
       "      <td>40.3</td>\n",
       "      <td>18.0</td>\n",
       "      <td>195.0</td>\n",
       "      <td>3250.0</td>\n",
       "      <td>female</td>\n",
       "    </tr>\n",
       "    <tr>\n",
       "      <th>3</th>\n",
       "      <td>Adelie</td>\n",
       "      <td>Torgersen</td>\n",
       "      <td>NaN</td>\n",
       "      <td>NaN</td>\n",
       "      <td>NaN</td>\n",
       "      <td>NaN</td>\n",
       "      <td>NaN</td>\n",
       "    </tr>\n",
       "    <tr>\n",
       "      <th>4</th>\n",
       "      <td>Adelie</td>\n",
       "      <td>Torgersen</td>\n",
       "      <td>36.7</td>\n",
       "      <td>19.3</td>\n",
       "      <td>193.0</td>\n",
       "      <td>3450.0</td>\n",
       "      <td>female</td>\n",
       "    </tr>\n",
       "  </tbody>\n",
       "</table>\n",
       "</div>"
      ],
      "text/plain": [
       "  species     island  bill_length_mm  bill_depth_mm  flipper_length_mm  \\\n",
       "0  Adelie  Torgersen            39.1           18.7              181.0   \n",
       "1  Adelie  Torgersen            39.5           17.4              186.0   \n",
       "2  Adelie  Torgersen            40.3           18.0              195.0   \n",
       "3  Adelie  Torgersen             NaN            NaN                NaN   \n",
       "4  Adelie  Torgersen            36.7           19.3              193.0   \n",
       "\n",
       "   body_mass_g     sex  \n",
       "0       3750.0    male  \n",
       "1       3800.0  female  \n",
       "2       3250.0  female  \n",
       "3          NaN     NaN  \n",
       "4       3450.0  female  "
      ]
     },
     "execution_count": 3,
     "metadata": {},
     "output_type": "execute_result"
    }
   ],
   "source": [
    "df.head()"
   ]
  },
  {
   "cell_type": "markdown",
   "metadata": {
    "id": "WDxAhE7aCbHc"
   },
   "source": [
    "## Tampilkan info, rangkuman analisis statistik (mean, std, dsb), serta jumlah nilai null untuk masing-masing kolom pada dataset"
   ]
  },
  {
   "cell_type": "code",
   "execution_count": 4,
   "metadata": {
    "id": "pu_hrSN-DZ0d"
   },
   "outputs": [
    {
     "name": "stdout",
     "output_type": "stream",
     "text": [
      "MEAN: bill_length_mm         43.921930\n",
      "bill_depth_mm          17.151170\n",
      "flipper_length_mm     200.915205\n",
      "body_mass_g          4201.754386\n",
      "dtype: float64\n",
      "STD: bill_length_mm         5.459584\n",
      "bill_depth_mm          1.974793\n",
      "flipper_length_mm     14.061714\n",
      "body_mass_g          801.954536\n",
      "dtype: float64\n",
      "MIN: species              Adelie\n",
      "island               Biscoe\n",
      "bill_length_mm         32.1\n",
      "bill_depth_mm          13.1\n",
      "flipper_length_mm     172.0\n",
      "body_mass_g          2700.0\n",
      "dtype: object\n",
      "MAX: species                 Gentoo\n",
      "island               Torgersen\n",
      "bill_length_mm            59.6\n",
      "bill_depth_mm             21.5\n",
      "flipper_length_mm        231.0\n",
      "body_mass_g             6300.0\n",
      "dtype: object\n",
      "NULL: species               0\n",
      "island                0\n",
      "bill_length_mm        2\n",
      "bill_depth_mm         2\n",
      "flipper_length_mm     2\n",
      "body_mass_g           2\n",
      "sex                  11\n",
      "dtype: int64\n"
     ]
    }
   ],
   "source": [
    "print(\"MEAN:\",df.mean())\n",
    "print(\"STD:\",df.std())\n",
    "print(\"MIN:\",df.min())\n",
    "print(\"MAX:\",df.max())\n",
    "print(\"NULL:\", df.isnull().sum())"
   ]
  },
  {
   "cell_type": "markdown",
   "metadata": {
    "id": "km9l_XOdDbfA"
   },
   "source": [
    "## Berapa rata-rata berat badan pinguin untuk setiap jenis kelamin?"
   ]
  },
  {
   "cell_type": "markdown",
   "metadata": {
    "id": "1h_O9JYNFDql"
   },
   "source": [
    "**hint** : karena kolom species sudah di encode, silakan import ulang dataset pada variable baru, misal \"df_not_encoded\""
   ]
  },
  {
   "cell_type": "code",
   "execution_count": 5,
   "metadata": {
    "id": "-g750Kl6FDYo"
   },
   "outputs": [],
   "source": [
    "df_not_encoded=pd.read_csv('https://raw.githubusercontent.com/bayuazra23/datasets/main/penguins.csv')"
   ]
  },
  {
   "cell_type": "code",
   "execution_count": 6,
   "metadata": {},
   "outputs": [
    {
     "data": {
      "text/plain": [
       "sex\n",
       "female    3862.272727\n",
       "male      4545.684524\n",
       "Name: body_mass_g, dtype: float64"
      ]
     },
     "execution_count": 6,
     "metadata": {},
     "output_type": "execute_result"
    }
   ],
   "source": [
    "df_not_encoded.groupby('sex')['body_mass_g'].mean()"
   ]
  },
  {
   "cell_type": "markdown",
   "metadata": {
    "id": "5ykUx7T3FZ6P"
   },
   "source": [
    "## Ada berapa jumlah data pinguin untuk masing-masing pulau?"
   ]
  },
  {
   "cell_type": "code",
   "execution_count": 7,
   "metadata": {
    "id": "w7aMPCGnFf7-"
   },
   "outputs": [
    {
     "data": {
      "text/plain": [
       "island     species  \n",
       "Biscoe     Gentoo       124\n",
       "           Adelie        44\n",
       "Dream      Chinstrap     68\n",
       "           Adelie        56\n",
       "Torgersen  Adelie        52\n",
       "Name: species, dtype: int64"
      ]
     },
     "execution_count": 7,
     "metadata": {},
     "output_type": "execute_result"
    }
   ],
   "source": [
    "df_not_encoded.groupby('island')['species'].value_counts()"
   ]
  },
  {
   "cell_type": "markdown",
   "metadata": {
    "id": "vrUb9NI7V5ta"
   },
   "source": [
    "## [Bonus] Business Question tambahan"
   ]
  },
  {
   "cell_type": "code",
   "execution_count": 8,
   "metadata": {
    "id": "TmemF4TYWAmI"
   },
   "outputs": [
    {
     "data": {
      "text/plain": [
       "Dream    18\n",
       "Name: island, dtype: int64"
      ]
     },
     "execution_count": 8,
     "metadata": {},
     "output_type": "execute_result"
    }
   ],
   "source": [
    "# [Tulis business kalian menggunakan comment, lalu tulis kode dicell yang sama]\n",
    "# Sebutkan pulau yang memiliki spesies chinstrap dan memiliki panjang sirip lebih dari 200mm\n",
    "df_not_encoded[(df_not_encoded['species']=='Chinstrap') & (df_not_encoded['flipper_length_mm']>200)]['island'].value_counts()\n"
   ]
  },
  {
   "cell_type": "markdown",
   "metadata": {
    "id": "SncZ7rHtQ4_J"
   },
   "source": [
    "# Visualisasi Data"
   ]
  },
  {
   "cell_type": "markdown",
   "metadata": {
    "id": "wcBlyhoBRGu6"
   },
   "source": [
    "**general rule** : anda akan diminta untuk membuat sebuah visualisasi untuk setiap jenis grafik yang sudah dipelajari.  Mengenai data yang digunakan untuk setiap grafik, lakukan analisis terhadap dataset, lalu tentukan kolom yang cocok untuk masing-masing jenis grafik. Sertakan reasoning terhadap grafik yang dibuat menggunakan komen, perhatikan contoh cell dibawah"
   ]
  },
  {
   "cell_type": "markdown",
   "metadata": {
    "id": "ZrW8x83cSAis"
   },
   "source": [
    "## contoh"
   ]
  },
  {
   "cell_type": "code",
   "execution_count": 11,
   "metadata": {
    "id": "pFiIw-GeR9wx"
   },
   "outputs": [
    {
     "data": {
      "image/png": "[encoded data removed]",
      "text/plain": [
       "<Figure size 1000x600 with 1 Axes>"
      ]
     },
     "metadata": {},
     "output_type": "display_data"
    }
   ],
   "source": [
    "#Grafik barplot untuk membandingkan jumlah pinguin dari setiap pulau\n",
    "data=df_not_encoded['island'].value_counts()\n",
    "plt.figure(figsize=(10,6))\n",
    "data.plot(kind='bar')\n",
    "plt.xlabel('Island')\n",
    "plt.ylabel('Jumlah')\n",
    "plt.xticks(rotation=45)\n",
    "plt.show()"
   ]
  },
  {
   "cell_type": "markdown",
   "metadata": {
    "id": "u7m5p0EzSVE3"
   },
   "source": [
    "## Barplot"
   ]
  },
  {
   "cell_type": "code",
   "execution_count": 17,
   "metadata": {
    "id": "WJyjBewhSW3E"
   },
   "outputs": [
    {
     "data": {
      "text/plain": [
       "<AxesSubplot: xlabel='species', ylabel='count'>"
      ]
     },
     "execution_count": 17,
     "metadata": {},
     "output_type": "execute_result"
    },
    {
     "data": {
      "image/png": "[encoded data removed]",
      "text/plain": [
       "<Figure size 640x480 with 1 Axes>"
      ]
     },
     "metadata": {},
     "output_type": "display_data"
    }
   ],
   "source": [
    "# Grafik barplot untuk membandingkan jumlah pinguin dari setiap sex dan spesiesnya\n",
    "sns.countplot(df_not_encoded, x='species',hue='sex', palette='Set2')"
   ]
  },
  {
   "cell_type": "markdown",
   "metadata": {
    "id": "be3kNMLSSXDl"
   },
   "source": [
    "## Scatterplot"
   ]
  },
  {
   "cell_type": "code",
   "execution_count": 32,
   "metadata": {
    "id": "Xwy06CB6SmYb"
   },
   "outputs": [
    {
     "data": {
      "text/plain": [
       "<AxesSubplot: xlabel='body_mass_g', ylabel='flipper_length_mm'>"
      ]
     },
     "execution_count": 32,
     "metadata": {},
     "output_type": "execute_result"
    },
    {
     "data": {
      "image/png": "[encoded data removed]",
      "text/plain": [
       "<Figure size 640x480 with 1 Axes>"
      ]
     },
     "metadata": {},
     "output_type": "display_data"
    }
   ],
   "source": [
    "# Grafik scatterplot tentang korelasi flipper length dengan body mass di tiap species\n",
    "sns.scatterplot(df_not_encoded, x='body_mass_g', y='flipper_length_mm', hue='species')"
   ]
  },
  {
   "cell_type": "markdown",
   "metadata": {
    "id": "fQrZ91kNSmlV"
   },
   "source": [
    "## Boxplot"
   ]
  },
  {
   "cell_type": "code",
   "execution_count": 50,
   "metadata": {
    "id": "m3Sjz6myS13j"
   },
   "outputs": [
    {
     "data": {
      "text/plain": [
       "<AxesSubplot: xlabel='species', ylabel='body_mass_g'>"
      ]
     },
     "execution_count": 50,
     "metadata": {},
     "output_type": "execute_result"
    },
    {
     "data": {
      "image/png": "[encoded data removed]",
      "text/plain": [
       "<Figure size 640x480 with 1 Axes>"
      ]
     },
     "metadata": {},
     "output_type": "display_data"
    }
   ],
   "source": [
    "# Grafik boxplot tentang perbandingan antara nilai rata-rata body_mass_g spesies adelie dengan body_mass_g\n",
    "sns.boxplot(df_not_encoded, x='species',y='body_mass_g', showmeans=True, meanline=True)\n"
   ]
  },
  {
   "cell_type": "markdown",
   "metadata": {
    "id": "1eHxUqjuS2QX"
   },
   "source": [
    "## Histogram"
   ]
  },
  {
   "cell_type": "code",
   "execution_count": 40,
   "metadata": {},
   "outputs": [
    {
     "data": {
      "image/png": "[encoded data removed]",
      "text/plain": [
       "<Figure size 2000x800 with 4 Axes>"
      ]
     },
     "metadata": {},
     "output_type": "display_data"
    }
   ],
   "source": [
    "# Grafik Histogram tentang persebaran frekuensi tiap kolom data penguin\n",
    "fig, axis = plt.subplots(figsize=(20, 8))\n",
    "df_not_encoded.hist(ax=axis)\n",
    "plt.show()"
   ]
  },
  {
   "cell_type": "markdown",
   "metadata": {
    "id": "yDVXSWXkS7w7"
   },
   "source": [
    "## Correlation Heatmap"
   ]
  },
  {
   "cell_type": "code",
   "execution_count": 58,
   "metadata": {
    "id": "HrCRtgKjTHuG"
   },
   "outputs": [
    {
     "data": {
      "image/png": "[encoded data removed]",
      "text/plain": [
       "<Figure size 2000x1200 with 2 Axes>"
      ]
     },
     "metadata": {},
     "output_type": "display_data"
    }
   ],
   "source": [
    "# Grafik Correlation Heatmap untuk mencari dan mengatahui korelasi antar data\n",
    "corrmat = df.corr()\n",
    "f, ax = plt.subplots(figsize=(20, 12))\n",
    "sns.heatmap(corrmat, square=True, annot=True, cmap=\"crest\");"
   ]
  },
  {
   "cell_type": "markdown",
   "metadata": {
    "id": "Sx47XhW9_2pI"
   },
   "source": [
    "# Data Mining"
   ]
  },
  {
   "cell_type": "markdown",
   "metadata": {
    "id": "vL62ct8ATdqy"
   },
   "source": [
    "**General Rule** :\n",
    "\n",
    "\n",
    "*   Buatlah model menggunakan masing-masing algoritma\n",
    "*   Lakukan spliting data dengan rasio train:test sebesar 70:30\n",
    "*   Bandingkan nilai akurasi untuk splitting data tersebut dengan split data menggunakan cross validation 10 fold\n",
    "*   Tampilkan juga classification report untuk masing-masing model\n"
   ]
  },
  {
   "cell_type": "markdown",
   "metadata": {
    "id": "knJk36wmUrDa"
   },
   "source": [
    "## Naive Bayes"
   ]
  },
  {
   "cell_type": "code",
   "execution_count": 71,
   "metadata": {
    "id": "9GZep7TsEgxp"
   },
   "outputs": [],
   "source": [
    "for col in df[['sex','island']]:\n",
    "  df[col] = LabelEncoder().fit_transform(df[col])"
   ]
  },
  {
   "cell_type": "code",
   "execution_count": 72,
   "metadata": {
    "id": "qh0K4UttUvV3"
   },
   "outputs": [
    {
     "data": {
      "text/html": [
       "<div>\n",
       "<style scoped>\n",
       "    .dataframe tbody tr th:only-of-type {\n",
       "        vertical-align: middle;\n",
       "    }\n",
       "\n",
       "    .dataframe tbody tr th {\n",
       "        vertical-align: top;\n",
       "    }\n",
       "\n",
       "    .dataframe thead th {\n",
       "        text-align: right;\n",
       "    }\n",
       "</style>\n",
       "<table border=\"1\" class=\"dataframe\">\n",
       "  <thead>\n",
       "    <tr style=\"text-align: right;\">\n",
       "      <th></th>\n",
       "      <th>species</th>\n",
       "      <th>island</th>\n",
       "      <th>bill_length_mm</th>\n",
       "      <th>bill_depth_mm</th>\n",
       "      <th>flipper_length_mm</th>\n",
       "      <th>body_mass_g</th>\n",
       "      <th>sex</th>\n",
       "    </tr>\n",
       "  </thead>\n",
       "  <tbody>\n",
       "    <tr>\n",
       "      <th>0</th>\n",
       "      <td>Adelie</td>\n",
       "      <td>2</td>\n",
       "      <td>39.1</td>\n",
       "      <td>18.7</td>\n",
       "      <td>181.0</td>\n",
       "      <td>3750.0</td>\n",
       "      <td>1</td>\n",
       "    </tr>\n",
       "    <tr>\n",
       "      <th>1</th>\n",
       "      <td>Adelie</td>\n",
       "      <td>2</td>\n",
       "      <td>39.5</td>\n",
       "      <td>17.4</td>\n",
       "      <td>186.0</td>\n",
       "      <td>3800.0</td>\n",
       "      <td>0</td>\n",
       "    </tr>\n",
       "    <tr>\n",
       "      <th>2</th>\n",
       "      <td>Adelie</td>\n",
       "      <td>2</td>\n",
       "      <td>40.3</td>\n",
       "      <td>18.0</td>\n",
       "      <td>195.0</td>\n",
       "      <td>3250.0</td>\n",
       "      <td>0</td>\n",
       "    </tr>\n",
       "    <tr>\n",
       "      <th>4</th>\n",
       "      <td>Adelie</td>\n",
       "      <td>2</td>\n",
       "      <td>36.7</td>\n",
       "      <td>19.3</td>\n",
       "      <td>193.0</td>\n",
       "      <td>3450.0</td>\n",
       "      <td>0</td>\n",
       "    </tr>\n",
       "    <tr>\n",
       "      <th>5</th>\n",
       "      <td>Adelie</td>\n",
       "      <td>2</td>\n",
       "      <td>39.3</td>\n",
       "      <td>20.6</td>\n",
       "      <td>190.0</td>\n",
       "      <td>3650.0</td>\n",
       "      <td>1</td>\n",
       "    </tr>\n",
       "    <tr>\n",
       "      <th>...</th>\n",
       "      <td>...</td>\n",
       "      <td>...</td>\n",
       "      <td>...</td>\n",
       "      <td>...</td>\n",
       "      <td>...</td>\n",
       "      <td>...</td>\n",
       "      <td>...</td>\n",
       "    </tr>\n",
       "    <tr>\n",
       "      <th>339</th>\n",
       "      <td>Chinstrap</td>\n",
       "      <td>1</td>\n",
       "      <td>55.8</td>\n",
       "      <td>19.8</td>\n",
       "      <td>207.0</td>\n",
       "      <td>4000.0</td>\n",
       "      <td>1</td>\n",
       "    </tr>\n",
       "    <tr>\n",
       "      <th>340</th>\n",
       "      <td>Chinstrap</td>\n",
       "      <td>1</td>\n",
       "      <td>43.5</td>\n",
       "      <td>18.1</td>\n",
       "      <td>202.0</td>\n",
       "      <td>3400.0</td>\n",
       "      <td>0</td>\n",
       "    </tr>\n",
       "    <tr>\n",
       "      <th>341</th>\n",
       "      <td>Chinstrap</td>\n",
       "      <td>1</td>\n",
       "      <td>49.6</td>\n",
       "      <td>18.2</td>\n",
       "      <td>193.0</td>\n",
       "      <td>3775.0</td>\n",
       "      <td>1</td>\n",
       "    </tr>\n",
       "    <tr>\n",
       "      <th>342</th>\n",
       "      <td>Chinstrap</td>\n",
       "      <td>1</td>\n",
       "      <td>50.8</td>\n",
       "      <td>19.0</td>\n",
       "      <td>210.0</td>\n",
       "      <td>4100.0</td>\n",
       "      <td>1</td>\n",
       "    </tr>\n",
       "    <tr>\n",
       "      <th>343</th>\n",
       "      <td>Chinstrap</td>\n",
       "      <td>1</td>\n",
       "      <td>50.2</td>\n",
       "      <td>18.7</td>\n",
       "      <td>198.0</td>\n",
       "      <td>3775.0</td>\n",
       "      <td>0</td>\n",
       "    </tr>\n",
       "  </tbody>\n",
       "</table>\n",
       "<p>342 rows × 7 columns</p>\n",
       "</div>"
      ],
      "text/plain": [
       "       species  island  bill_length_mm  bill_depth_mm  flipper_length_mm  \\\n",
       "0       Adelie       2            39.1           18.7              181.0   \n",
       "1       Adelie       2            39.5           17.4              186.0   \n",
       "2       Adelie       2            40.3           18.0              195.0   \n",
       "4       Adelie       2            36.7           19.3              193.0   \n",
       "5       Adelie       2            39.3           20.6              190.0   \n",
       "..         ...     ...             ...            ...                ...   \n",
       "339  Chinstrap       1            55.8           19.8              207.0   \n",
       "340  Chinstrap       1            43.5           18.1              202.0   \n",
       "341  Chinstrap       1            49.6           18.2              193.0   \n",
       "342  Chinstrap       1            50.8           19.0              210.0   \n",
       "343  Chinstrap       1            50.2           18.7              198.0   \n",
       "\n",
       "     body_mass_g  sex  \n",
       "0         3750.0    1  \n",
       "1         3800.0    0  \n",
       "2         3250.0    0  \n",
       "4         3450.0    0  \n",
       "5         3650.0    1  \n",
       "..           ...  ...  \n",
       "339       4000.0    1  \n",
       "340       3400.0    0  \n",
       "341       3775.0    1  \n",
       "342       4100.0    1  \n",
       "343       3775.0    0  \n",
       "\n",
       "[342 rows x 7 columns]"
      ]
     },
     "execution_count": 72,
     "metadata": {},
     "output_type": "execute_result"
    }
   ],
   "source": [
    "df_clean = df.dropna()\n",
    "df_clean"
   ]
  },
  {
   "cell_type": "code",
   "execution_count": 73,
   "metadata": {},
   "outputs": [],
   "source": [
    "X = df_clean.iloc[ : , [1,2,3,4,5,6]].values\n",
    "y = df_clean.iloc[:, 0].values"
   ]
  },
  {
   "cell_type": "code",
   "execution_count": 74,
   "metadata": {},
   "outputs": [],
   "source": [
    "#splitting data\n",
    "X_train, X_test, y_train, y_test = train_test_split(X, y, test_size = 0.30, random_state =0)"
   ]
  },
  {
   "cell_type": "code",
   "execution_count": 75,
   "metadata": {},
   "outputs": [
    {
     "name": "stdout",
     "output_type": "stream",
     "text": [
      "0.9805825242718447\n"
     ]
    }
   ],
   "source": [
    "#algoritma\n",
    "classifier=GaussianNB()\n",
    "#training\n",
    "classifier.fit(X_train,y_train)\n",
    "\n",
    "#evaluasi\n",
    "y_pred=classifier.predict(X_test)\n",
    "#ytest kunci jawaban, ypred hasil prediksi model ML\n",
    "acc=accuracy_score(y_test, y_pred)\n",
    "print(acc)"
   ]
  },
  {
   "cell_type": "code",
   "execution_count": 76,
   "metadata": {},
   "outputs": [
    {
     "data": {
      "text/plain": [
       "array([[1.000e+00, 3.960e+01, 1.810e+01, 1.860e+02, 4.450e+03, 1.000e+00],\n",
       "       [1.000e+00, 4.610e+01, 1.820e+01, 1.780e+02, 3.250e+03, 0.000e+00],\n",
       "       [1.000e+00, 3.750e+01, 1.850e+01, 1.990e+02, 4.475e+03, 1.000e+00],\n",
       "       [1.000e+00, 4.520e+01, 1.780e+01, 1.980e+02, 3.950e+03, 0.000e+00],\n",
       "       [2.000e+00, 3.920e+01, 1.960e+01, 1.950e+02, 4.675e+03, 1.000e+00],\n",
       "       [1.000e+00, 4.950e+01, 1.900e+01, 2.000e+02, 3.800e+03, 1.000e+00],\n",
       "       [0.000e+00, 4.940e+01, 1.580e+01, 2.160e+02, 4.925e+03, 1.000e+00],\n",
       "       [0.000e+00, 3.900e+01, 1.750e+01, 1.860e+02, 3.550e+03, 0.000e+00],\n",
       "       [0.000e+00, 5.110e+01, 1.630e+01, 2.200e+02, 6.000e+03, 1.000e+00],\n",
       "       [1.000e+00, 3.760e+01, 1.930e+01, 1.810e+02, 3.300e+03, 0.000e+00],\n",
       "       [0.000e+00, 3.550e+01, 1.620e+01, 1.950e+02, 3.350e+03, 0.000e+00],\n",
       "       [0.000e+00, 4.820e+01, 1.430e+01, 2.100e+02, 4.600e+03, 0.000e+00],\n",
       "       [0.000e+00, 4.200e+01, 1.350e+01, 2.100e+02, 4.150e+03, 0.000e+00],\n",
       "       [0.000e+00, 3.780e+01, 2.000e+01, 1.900e+02, 4.250e+03, 1.000e+00],\n",
       "       [2.000e+00, 3.870e+01, 1.900e+01, 1.950e+02, 3.450e+03, 0.000e+00],\n",
       "       [0.000e+00, 4.400e+01, 1.360e+01, 2.080e+02, 4.350e+03, 0.000e+00],\n",
       "       [0.000e+00, 4.360e+01, 1.390e+01, 2.170e+02, 4.900e+03, 0.000e+00],\n",
       "       [0.000e+00, 4.930e+01, 1.570e+01, 2.170e+02, 5.850e+03, 1.000e+00],\n",
       "       [1.000e+00, 4.560e+01, 1.940e+01, 1.940e+02, 3.525e+03, 0.000e+00],\n",
       "       [0.000e+00, 4.050e+01, 1.790e+01, 1.870e+02, 3.200e+03, 0.000e+00],\n",
       "       [1.000e+00, 5.130e+01, 1.920e+01, 1.930e+02, 3.650e+03, 1.000e+00],\n",
       "       [0.000e+00, 3.960e+01, 2.070e+01, 1.910e+02, 3.900e+03, 0.000e+00],\n",
       "       [1.000e+00, 5.060e+01, 1.940e+01, 1.930e+02, 3.800e+03, 1.000e+00],\n",
       "       [0.000e+00, 4.910e+01, 1.500e+01, 2.280e+02, 5.500e+03, 1.000e+00],\n",
       "       [0.000e+00, 4.140e+01, 1.860e+01, 1.910e+02, 3.700e+03, 1.000e+00],\n",
       "       [0.000e+00, 3.570e+01, 1.690e+01, 1.850e+02, 3.150e+03, 0.000e+00],\n",
       "       [0.000e+00, 4.730e+01, 1.530e+01, 2.220e+02, 5.250e+03, 1.000e+00],\n",
       "       [1.000e+00, 4.850e+01, 1.750e+01, 1.910e+02, 3.400e+03, 1.000e+00],\n",
       "       [0.000e+00, 4.820e+01, 1.560e+01, 2.210e+02, 5.100e+03, 1.000e+00],\n",
       "       [0.000e+00, 5.130e+01, 1.420e+01, 2.180e+02, 5.300e+03, 1.000e+00],\n",
       "       [0.000e+00, 3.770e+01, 1.870e+01, 1.800e+02, 3.600e+03, 1.000e+00],\n",
       "       [2.000e+00, 4.280e+01, 1.850e+01, 1.950e+02, 4.250e+03, 1.000e+00],\n",
       "       [0.000e+00, 4.200e+01, 1.950e+01, 2.000e+02, 4.050e+03, 1.000e+00],\n",
       "       [0.000e+00, 4.330e+01, 1.340e+01, 2.090e+02, 4.400e+03, 0.000e+00],\n",
       "       [0.000e+00, 4.490e+01, 1.380e+01, 2.120e+02, 4.750e+03, 0.000e+00],\n",
       "       [2.000e+00, 3.410e+01, 1.810e+01, 1.930e+02, 3.475e+03, 2.000e+00],\n",
       "       [1.000e+00, 5.050e+01, 1.960e+01, 2.010e+02, 4.050e+03, 1.000e+00],\n",
       "       [0.000e+00, 4.870e+01, 1.570e+01, 2.080e+02, 5.350e+03, 1.000e+00],\n",
       "       [1.000e+00, 4.660e+01, 1.780e+01, 1.930e+02, 3.800e+03, 0.000e+00],\n",
       "       [2.000e+00, 4.060e+01, 1.900e+01, 1.990e+02, 4.000e+03, 1.000e+00],\n",
       "       [0.000e+00, 3.640e+01, 1.710e+01, 1.840e+02, 2.850e+03, 0.000e+00],\n",
       "       [0.000e+00, 4.060e+01, 1.880e+01, 1.930e+02, 3.800e+03, 1.000e+00],\n",
       "       [1.000e+00, 4.150e+01, 1.850e+01, 2.010e+02, 4.000e+03, 1.000e+00],\n",
       "       [0.000e+00, 4.520e+01, 1.380e+01, 2.150e+02, 4.750e+03, 0.000e+00],\n",
       "       [1.000e+00, 3.920e+01, 1.860e+01, 1.900e+02, 4.250e+03, 1.000e+00],\n",
       "       [2.000e+00, 3.720e+01, 1.940e+01, 1.840e+02, 3.900e+03, 1.000e+00],\n",
       "       [1.000e+00, 5.580e+01, 1.980e+01, 2.070e+02, 4.000e+03, 1.000e+00],\n",
       "       [0.000e+00, 4.500e+01, 1.540e+01, 2.200e+02, 5.050e+03, 1.000e+00],\n",
       "       [0.000e+00, 4.290e+01, 1.310e+01, 2.150e+02, 5.000e+03, 0.000e+00],\n",
       "       [1.000e+00, 5.010e+01, 1.790e+01, 1.900e+02, 3.400e+03, 0.000e+00],\n",
       "       [0.000e+00, 4.100e+01, 2.000e+01, 2.030e+02, 4.725e+03, 1.000e+00],\n",
       "       [0.000e+00, 4.160e+01, 1.800e+01, 1.920e+02, 3.950e+03, 1.000e+00],\n",
       "       [2.000e+00, 4.180e+01, 1.940e+01, 1.980e+02, 4.450e+03, 1.000e+00],\n",
       "       [2.000e+00, 4.150e+01, 1.830e+01, 1.950e+02, 4.300e+03, 1.000e+00],\n",
       "       [1.000e+00, 4.320e+01, 1.660e+01, 1.870e+02, 2.900e+03, 0.000e+00],\n",
       "       [0.000e+00, 4.130e+01, 2.110e+01, 1.950e+02, 4.400e+03, 1.000e+00],\n",
       "       [0.000e+00, 5.080e+01, 1.570e+01, 2.260e+02, 5.200e+03, 1.000e+00],\n",
       "       [1.000e+00, 4.060e+01, 1.720e+01, 1.870e+02, 3.475e+03, 1.000e+00],\n",
       "       [2.000e+00, 3.770e+01, 1.980e+01, 1.980e+02, 3.500e+03, 1.000e+00],\n",
       "       [1.000e+00, 4.690e+01, 1.660e+01, 1.920e+02, 2.700e+03, 0.000e+00],\n",
       "       [2.000e+00, 3.730e+01, 2.050e+01, 1.990e+02, 3.775e+03, 1.000e+00],\n",
       "       [0.000e+00, 3.590e+01, 1.920e+01, 1.890e+02, 3.800e+03, 0.000e+00],\n",
       "       [2.000e+00, 4.140e+01, 1.850e+01, 2.020e+02, 3.875e+03, 1.000e+00],\n",
       "       [0.000e+00, 4.900e+01, 1.610e+01, 2.160e+02, 5.550e+03, 1.000e+00],\n",
       "       [1.000e+00, 3.700e+01, 1.650e+01, 1.850e+02, 3.400e+03, 0.000e+00],\n",
       "       [0.000e+00, 3.960e+01, 1.770e+01, 1.860e+02, 3.500e+03, 0.000e+00],\n",
       "       [1.000e+00, 3.210e+01, 1.550e+01, 1.880e+02, 3.050e+03, 0.000e+00],\n",
       "       [0.000e+00, 4.650e+01, 1.350e+01, 2.100e+02, 4.550e+03, 0.000e+00],\n",
       "       [2.000e+00, 4.210e+01, 1.910e+01, 1.950e+02, 4.000e+03, 1.000e+00],\n",
       "       [0.000e+00, 5.250e+01, 1.560e+01, 2.210e+02, 5.450e+03, 1.000e+00],\n",
       "       [0.000e+00, 3.820e+01, 1.810e+01, 1.850e+02, 3.950e+03, 1.000e+00],\n",
       "       [1.000e+00, 5.000e+01, 1.950e+01, 1.960e+02, 3.900e+03, 1.000e+00],\n",
       "       [1.000e+00, 4.020e+01, 2.010e+01, 2.000e+02, 3.975e+03, 1.000e+00],\n",
       "       [0.000e+00, 4.110e+01, 1.910e+01, 1.880e+02, 4.100e+03, 1.000e+00],\n",
       "       [0.000e+00, 4.740e+01, 1.460e+01, 2.120e+02, 4.725e+03, 0.000e+00],\n",
       "       [2.000e+00, 3.860e+01, 2.120e+01, 1.910e+02, 3.800e+03, 1.000e+00],\n",
       "       [1.000e+00, 5.130e+01, 1.990e+01, 1.980e+02, 3.700e+03, 1.000e+00],\n",
       "       [1.000e+00, 3.560e+01, 1.750e+01, 1.910e+02, 3.175e+03, 0.000e+00],\n",
       "       [2.000e+00, 3.440e+01, 1.840e+01, 1.840e+02, 3.325e+03, 0.000e+00],\n",
       "       [0.000e+00, 4.750e+01, 1.500e+01, 2.180e+02, 4.950e+03, 0.000e+00],\n",
       "       [0.000e+00, 3.790e+01, 1.860e+01, 1.930e+02, 2.925e+03, 0.000e+00],\n",
       "       [0.000e+00, 5.040e+01, 1.570e+01, 2.220e+02, 5.750e+03, 1.000e+00],\n",
       "       [0.000e+00, 5.110e+01, 1.650e+01, 2.250e+02, 5.250e+03, 1.000e+00],\n",
       "       [1.000e+00, 3.570e+01, 1.800e+01, 2.020e+02, 3.550e+03, 0.000e+00],\n",
       "       [0.000e+00, 5.210e+01, 1.700e+01, 2.300e+02, 5.550e+03, 1.000e+00],\n",
       "       [0.000e+00, 4.870e+01, 1.510e+01, 2.220e+02, 5.350e+03, 1.000e+00],\n",
       "       [1.000e+00, 4.250e+01, 1.670e+01, 1.870e+02, 3.350e+03, 0.000e+00],\n",
       "       [0.000e+00, 3.770e+01, 1.600e+01, 1.830e+02, 3.075e+03, 0.000e+00],\n",
       "       [0.000e+00, 4.870e+01, 1.410e+01, 2.100e+02, 4.450e+03, 0.000e+00],\n",
       "       [1.000e+00, 5.020e+01, 1.870e+01, 1.980e+02, 3.775e+03, 0.000e+00],\n",
       "       [2.000e+00, 3.670e+01, 1.880e+01, 1.870e+02, 3.800e+03, 0.000e+00],\n",
       "       [2.000e+00, 3.950e+01, 1.740e+01, 1.860e+02, 3.800e+03, 0.000e+00],\n",
       "       [0.000e+00, 5.020e+01, 1.430e+01, 2.180e+02, 5.700e+03, 1.000e+00],\n",
       "       [2.000e+00, 4.200e+01, 2.020e+01, 1.900e+02, 4.250e+03, 2.000e+00],\n",
       "       [0.000e+00, 4.340e+01, 1.440e+01, 2.180e+02, 4.600e+03, 0.000e+00],\n",
       "       [0.000e+00, 4.570e+01, 1.390e+01, 2.140e+02, 4.400e+03, 0.000e+00],\n",
       "       [1.000e+00, 3.810e+01, 1.760e+01, 1.870e+02, 3.425e+03, 0.000e+00],\n",
       "       [0.000e+00, 5.150e+01, 1.630e+01, 2.300e+02, 5.500e+03, 1.000e+00],\n",
       "       [1.000e+00, 5.100e+01, 1.880e+01, 2.030e+02, 4.100e+03, 1.000e+00],\n",
       "       [0.000e+00, 4.610e+01, 1.510e+01, 2.150e+02, 5.100e+03, 1.000e+00],\n",
       "       [0.000e+00, 4.690e+01, 1.460e+01, 2.220e+02, 4.875e+03, 0.000e+00],\n",
       "       [0.000e+00, 4.770e+01, 1.500e+01, 2.160e+02, 4.750e+03, 0.000e+00],\n",
       "       [2.000e+00, 3.890e+01, 1.780e+01, 1.810e+02, 3.625e+03, 0.000e+00]])"
      ]
     },
     "execution_count": 76,
     "metadata": {},
     "output_type": "execute_result"
    }
   ],
   "source": [
    "#testing\n",
    "X_test"
   ]
  },
  {
   "cell_type": "code",
   "execution_count": 77,
   "metadata": {},
   "outputs": [
    {
     "data": {
      "text/plain": [
       "array(['Adelie', 'Chinstrap', 'Adelie', 'Chinstrap', 'Adelie',\n",
       "       'Chinstrap', 'Gentoo', 'Adelie', 'Gentoo', 'Adelie', 'Adelie',\n",
       "       'Gentoo', 'Gentoo', 'Adelie', 'Adelie', 'Gentoo', 'Gentoo',\n",
       "       'Gentoo', 'Chinstrap', 'Adelie', 'Chinstrap', 'Adelie',\n",
       "       'Chinstrap', 'Gentoo', 'Adelie', 'Adelie', 'Gentoo', 'Chinstrap',\n",
       "       'Gentoo', 'Gentoo', 'Adelie', 'Adelie', 'Adelie', 'Gentoo',\n",
       "       'Gentoo', 'Adelie', 'Chinstrap', 'Gentoo', 'Chinstrap', 'Adelie',\n",
       "       'Adelie', 'Adelie', 'Adelie', 'Gentoo', 'Adelie', 'Adelie',\n",
       "       'Chinstrap', 'Gentoo', 'Gentoo', 'Chinstrap', 'Adelie', 'Adelie',\n",
       "       'Adelie', 'Adelie', 'Chinstrap', 'Adelie', 'Gentoo', 'Adelie',\n",
       "       'Adelie', 'Chinstrap', 'Adelie', 'Adelie', 'Adelie', 'Gentoo',\n",
       "       'Adelie', 'Adelie', 'Adelie', 'Gentoo', 'Adelie', 'Gentoo',\n",
       "       'Adelie', 'Chinstrap', 'Adelie', 'Adelie', 'Gentoo', 'Adelie',\n",
       "       'Chinstrap', 'Adelie', 'Adelie', 'Gentoo', 'Adelie', 'Gentoo',\n",
       "       'Gentoo', 'Adelie', 'Gentoo', 'Gentoo', 'Chinstrap', 'Adelie',\n",
       "       'Gentoo', 'Chinstrap', 'Adelie', 'Adelie', 'Gentoo', 'Adelie',\n",
       "       'Gentoo', 'Gentoo', 'Adelie', 'Gentoo', 'Chinstrap', 'Gentoo',\n",
       "       'Gentoo', 'Gentoo', 'Adelie'], dtype=object)"
      ]
     },
     "execution_count": 77,
     "metadata": {},
     "output_type": "execute_result"
    }
   ],
   "source": [
    "y_test"
   ]
  },
  {
   "cell_type": "code",
   "execution_count": 78,
   "metadata": {},
   "outputs": [
    {
     "data": {
      "text/plain": [
       "array(['Adelie', 'Chinstrap', 'Adelie', 'Chinstrap', 'Adelie',\n",
       "       'Chinstrap', 'Gentoo', 'Adelie', 'Gentoo', 'Adelie', 'Adelie',\n",
       "       'Gentoo', 'Gentoo', 'Adelie', 'Adelie', 'Gentoo', 'Gentoo',\n",
       "       'Gentoo', 'Chinstrap', 'Adelie', 'Chinstrap', 'Adelie',\n",
       "       'Chinstrap', 'Gentoo', 'Adelie', 'Adelie', 'Gentoo', 'Chinstrap',\n",
       "       'Gentoo', 'Gentoo', 'Adelie', 'Adelie', 'Adelie', 'Gentoo',\n",
       "       'Gentoo', 'Adelie', 'Chinstrap', 'Gentoo', 'Chinstrap', 'Adelie',\n",
       "       'Adelie', 'Adelie', 'Chinstrap', 'Gentoo', 'Adelie', 'Adelie',\n",
       "       'Chinstrap', 'Gentoo', 'Gentoo', 'Chinstrap', 'Adelie', 'Adelie',\n",
       "       'Adelie', 'Adelie', 'Chinstrap', 'Adelie', 'Gentoo', 'Adelie',\n",
       "       'Adelie', 'Chinstrap', 'Adelie', 'Adelie', 'Adelie', 'Gentoo',\n",
       "       'Adelie', 'Adelie', 'Adelie', 'Gentoo', 'Adelie', 'Gentoo',\n",
       "       'Adelie', 'Chinstrap', 'Chinstrap', 'Adelie', 'Gentoo', 'Adelie',\n",
       "       'Chinstrap', 'Adelie', 'Adelie', 'Gentoo', 'Adelie', 'Gentoo',\n",
       "       'Gentoo', 'Adelie', 'Gentoo', 'Gentoo', 'Chinstrap', 'Adelie',\n",
       "       'Gentoo', 'Chinstrap', 'Adelie', 'Adelie', 'Gentoo', 'Adelie',\n",
       "       'Gentoo', 'Gentoo', 'Adelie', 'Gentoo', 'Chinstrap', 'Gentoo',\n",
       "       'Gentoo', 'Gentoo', 'Adelie'], dtype='<U9')"
      ]
     },
     "execution_count": 78,
     "metadata": {},
     "output_type": "execute_result"
    }
   ],
   "source": [
    "y_pred"
   ]
  },
  {
   "cell_type": "code",
   "execution_count": 79,
   "metadata": {},
   "outputs": [
    {
     "name": "stdout",
     "output_type": "stream",
     "text": [
      "              precision    recall  f1-score   support\n",
      "\n",
      "      Adelie       1.00      0.96      0.98        50\n",
      "   Chinstrap       0.90      1.00      0.95        18\n",
      "      Gentoo       1.00      1.00      1.00        35\n",
      "\n",
      "    accuracy                           0.98       103\n",
      "   macro avg       0.97      0.99      0.98       103\n",
      "weighted avg       0.98      0.98      0.98       103\n",
      "\n"
     ]
    }
   ],
   "source": [
    "print(classification_report(y_test, y_pred))"
   ]
  },
  {
   "cell_type": "code",
   "execution_count": 83,
   "metadata": {},
   "outputs": [],
   "source": [
    "from sklearn.model_selection import cross_val_predict"
   ]
  },
  {
   "cell_type": "code",
   "execution_count": 84,
   "metadata": {},
   "outputs": [
    {
     "data": {
      "text/plain": [
       "0.9583333333333334"
      ]
     },
     "execution_count": 84,
     "metadata": {},
     "output_type": "execute_result"
    }
   ],
   "source": [
    "y_pred = cross_val_predict(classifier, X_test, y_test, cv = 10)\n",
    "accuracies = cross_val_score(estimator = classifier, X = X_train, y = y_train, cv = 10)\n",
    "accuracies.mean()"
   ]
  },
  {
   "cell_type": "code",
   "execution_count": 85,
   "metadata": {},
   "outputs": [
    {
     "name": "stdout",
     "output_type": "stream",
     "text": [
      "              precision    recall  f1-score   support\n",
      "\n",
      "      Adelie       1.00      0.98      0.99        50\n",
      "   Chinstrap       0.95      1.00      0.97        18\n",
      "      Gentoo       1.00      1.00      1.00        35\n",
      "\n",
      "    accuracy                           0.99       103\n",
      "   macro avg       0.98      0.99      0.99       103\n",
      "weighted avg       0.99      0.99      0.99       103\n",
      "\n"
     ]
    }
   ],
   "source": [
    "print(classification_report(y_test, y_pred))"
   ]
  },
  {
   "cell_type": "markdown",
   "metadata": {
    "id": "0WaZXpTYUvpz"
   },
   "source": [
    "## KNN"
   ]
  },
  {
   "cell_type": "markdown",
   "metadata": {
    "id": "eLJHxzL0Uxay"
   },
   "source": [
    "*   coba nilai K sebesar 3, 5, 7, 9. Buatlah model dengan nilai K terbaik\n",
    "\n",
    "\n",
    "\n",
    "\n"
   ]
  },
  {
   "cell_type": "code",
   "execution_count": 86,
   "metadata": {
    "id": "ALMXxu05_5nP"
   },
   "outputs": [],
   "source": [
    "X = df_clean.iloc[:, [1,2,3,4,5,6]].values\n",
    "y = df_clean.iloc[:, 0].values"
   ]
  },
  {
   "cell_type": "code",
   "execution_count": 87,
   "metadata": {},
   "outputs": [],
   "source": [
    "X_train, X_test, y_train, y_test = train_test_split(X, y, test_size = 0.30, random_state = 0)"
   ]
  },
  {
   "cell_type": "code",
   "execution_count": 88,
   "metadata": {},
   "outputs": [
    {
     "name": "stdout",
     "output_type": "stream",
     "text": [
      "0.8640776699029126\n"
     ]
    }
   ],
   "source": [
    "classifier=KNeighborsClassifier(n_neighbors=3,metric='minkowski',p=2)\n",
    "classifier.fit(X_train,y_train)\n",
    "y_pred=classifier.predict(X_test)\n",
    "acc=accuracy_score(y_test, y_pred)\n",
    "print( acc)"
   ]
  },
  {
   "cell_type": "code",
   "execution_count": 89,
   "metadata": {},
   "outputs": [
    {
     "name": "stdout",
     "output_type": "stream",
     "text": [
      "0.8058252427184466\n"
     ]
    }
   ],
   "source": [
    "classifier=KNeighborsClassifier(n_neighbors=5,metric='minkowski',p=2)\n",
    "classifier.fit(X_train,y_train)\n",
    "y_pred=classifier.predict(X_test)\n",
    "acc=accuracy_score(y_test, y_pred)\n",
    "print( acc)"
   ]
  },
  {
   "cell_type": "code",
   "execution_count": 90,
   "metadata": {},
   "outputs": [
    {
     "name": "stdout",
     "output_type": "stream",
     "text": [
      "0.8349514563106796\n"
     ]
    }
   ],
   "source": [
    "classifier=KNeighborsClassifier(n_neighbors=7,metric='minkowski',p=2)\n",
    "classifier.fit(X_train,y_train)\n",
    "y_pred=classifier.predict(X_test)\n",
    "acc=accuracy_score(y_test, y_pred)\n",
    "print( acc)"
   ]
  },
  {
   "cell_type": "code",
   "execution_count": 91,
   "metadata": {},
   "outputs": [
    {
     "name": "stdout",
     "output_type": "stream",
     "text": [
      "0.8640776699029126\n"
     ]
    }
   ],
   "source": [
    "classifier=KNeighborsClassifier(n_neighbors=9,metric='minkowski',p=2)\n",
    "classifier.fit(X_train,y_train)\n",
    "y_pred=classifier.predict(X_test)\n",
    "acc=accuracy_score(y_test, y_pred)\n",
    "print( acc)"
   ]
  },
  {
   "cell_type": "code",
   "execution_count": 92,
   "metadata": {},
   "outputs": [
    {
     "name": "stdout",
     "output_type": "stream",
     "text": [
      "              precision    recall  f1-score   support\n",
      "\n",
      "      Adelie       0.82      0.92      0.87        50\n",
      "   Chinstrap       0.89      0.44      0.59        18\n",
      "      Gentoo       0.92      1.00      0.96        35\n",
      "\n",
      "    accuracy                           0.86       103\n",
      "   macro avg       0.88      0.79      0.81       103\n",
      "weighted avg       0.87      0.86      0.85       103\n",
      "\n"
     ]
    }
   ],
   "source": [
    "print(classification_report(y_test, y_pred))"
   ]
  },
  {
   "cell_type": "code",
   "execution_count": 93,
   "metadata": {},
   "outputs": [
    {
     "data": {
      "text/plain": [
       "0.7697463768115942"
      ]
     },
     "execution_count": 93,
     "metadata": {},
     "output_type": "execute_result"
    }
   ],
   "source": [
    "y_pred = cross_val_predict(classifier, X_test, y_test, cv = 10)\n",
    "accuracies = cross_val_score(estimator = classifier, X = X_train, y = y_train, cv = 10)\n",
    "accuracies.mean()"
   ]
  },
  {
   "cell_type": "code",
   "execution_count": 94,
   "metadata": {},
   "outputs": [
    {
     "name": "stdout",
     "output_type": "stream",
     "text": [
      "              precision    recall  f1-score   support\n",
      "\n",
      "      Adelie       0.68      0.90      0.78        50\n",
      "   Chinstrap       1.00      0.11      0.20        18\n",
      "      Gentoo       0.86      0.86      0.86        35\n",
      "\n",
      "    accuracy                           0.75       103\n",
      "   macro avg       0.85      0.62      0.61       103\n",
      "weighted avg       0.80      0.75      0.70       103\n",
      "\n"
     ]
    }
   ],
   "source": [
    "print(classification_report(y_test, y_pred))"
   ]
  },
  {
   "cell_type": "markdown",
   "metadata": {
    "id": "Fz1_o1X6VDbP"
   },
   "source": [
    "## SVM"
   ]
  },
  {
   "cell_type": "code",
   "execution_count": 95,
   "metadata": {
    "id": "NGj5Ko_S_5rb"
   },
   "outputs": [],
   "source": [
    "X = df_clean.iloc[:, [1,2,3,4,5,6]].values\n",
    "y = df_clean.iloc[:, 0].values\n",
    "X_train, X_test, y_train, y_test = train_test_split(X, y, test_size = 0.30, random_state = 11)"
   ]
  },
  {
   "cell_type": "code",
   "execution_count": 96,
   "metadata": {},
   "outputs": [
    {
     "data": {
      "text/plain": [
       "0.7195652173913045"
      ]
     },
     "execution_count": 96,
     "metadata": {},
     "output_type": "execute_result"
    }
   ],
   "source": [
    "classifier = SVC(kernel = 'rbf', random_state = 0)\n",
    "classifier.fit(X_train, y_train)\n",
    "y_pred = cross_val_predict(classifier, X_test, y_test, cv = 10)\n",
    "accuracies = cross_val_score(estimator = classifier, X = X_train, y = y_train, cv = 10)\n",
    "accuracies.mean()"
   ]
  },
  {
   "cell_type": "code",
   "execution_count": 97,
   "metadata": {},
   "outputs": [
    {
     "data": {
      "text/plain": [
       "array([0.66666667, 0.79166667, 0.79166667, 0.66666667, 0.79166667,\n",
       "       0.66666667, 0.625     , 0.70833333, 0.79166667, 0.69565217])"
      ]
     },
     "execution_count": 97,
     "metadata": {},
     "output_type": "execute_result"
    }
   ],
   "source": [
    "accuracies"
   ]
  },
  {
   "cell_type": "code",
   "execution_count": 98,
   "metadata": {},
   "outputs": [
    {
     "name": "stdout",
     "output_type": "stream",
     "text": [
      "              precision    recall  f1-score   support\n",
      "\n",
      "      Adelie       0.66      0.95      0.78        42\n",
      "   Chinstrap       0.00      0.00      0.00        18\n",
      "      Gentoo       0.93      0.91      0.92        43\n",
      "\n",
      "    accuracy                           0.77       103\n",
      "   macro avg       0.53      0.62      0.56       103\n",
      "weighted avg       0.66      0.77      0.70       103\n",
      "\n"
     ]
    }
   ],
   "source": [
    "print(classification_report(y_test, y_pred))"
   ]
  },
  {
   "cell_type": "code",
   "execution_count": 99,
   "metadata": {},
   "outputs": [
    {
     "name": "stdout",
     "output_type": "stream",
     "text": [
      "0.7475728155339806\n"
     ]
    }
   ],
   "source": [
    "y_pred=classifier.predict(X_test)\n",
    "acc=accuracy_score(y_test, y_pred)\n",
    "print(acc)"
   ]
  },
  {
   "cell_type": "code",
   "execution_count": 100,
   "metadata": {},
   "outputs": [
    {
     "name": "stdout",
     "output_type": "stream",
     "text": [
      "              precision    recall  f1-score   support\n",
      "\n",
      "      Adelie       0.62      0.98      0.76        42\n",
      "   Chinstrap       0.00      0.00      0.00        18\n",
      "      Gentoo       0.97      0.84      0.90        43\n",
      "\n",
      "    accuracy                           0.75       103\n",
      "   macro avg       0.53      0.60      0.55       103\n",
      "weighted avg       0.66      0.75      0.69       103\n",
      "\n"
     ]
    }
   ],
   "source": [
    "print(classification_report(y_test, y_pred))"
   ]
  },
  {
   "cell_type": "markdown",
   "metadata": {
    "id": "9S6a-QqeVHyj"
   },
   "source": [
    "## Logistic Regression"
   ]
  },
  {
   "cell_type": "code",
   "execution_count": 101,
   "metadata": {
    "id": "FvRmZiAcVLcb"
   },
   "outputs": [
    {
     "data": {
      "text/html": [
       "<div>\n",
       "<style scoped>\n",
       "    .dataframe tbody tr th:only-of-type {\n",
       "        vertical-align: middle;\n",
       "    }\n",
       "\n",
       "    .dataframe tbody tr th {\n",
       "        vertical-align: top;\n",
       "    }\n",
       "\n",
       "    .dataframe thead th {\n",
       "        text-align: right;\n",
       "    }\n",
       "</style>\n",
       "<table border=\"1\" class=\"dataframe\">\n",
       "  <thead>\n",
       "    <tr style=\"text-align: right;\">\n",
       "      <th></th>\n",
       "      <th>species</th>\n",
       "      <th>island</th>\n",
       "      <th>bill_length_mm</th>\n",
       "      <th>bill_depth_mm</th>\n",
       "      <th>flipper_length_mm</th>\n",
       "      <th>body_mass_g</th>\n",
       "      <th>sex</th>\n",
       "    </tr>\n",
       "  </thead>\n",
       "  <tbody>\n",
       "    <tr>\n",
       "      <th>0</th>\n",
       "      <td>Adelie</td>\n",
       "      <td>2</td>\n",
       "      <td>39.1</td>\n",
       "      <td>18.7</td>\n",
       "      <td>181.0</td>\n",
       "      <td>3750.0</td>\n",
       "      <td>1</td>\n",
       "    </tr>\n",
       "    <tr>\n",
       "      <th>1</th>\n",
       "      <td>Adelie</td>\n",
       "      <td>2</td>\n",
       "      <td>39.5</td>\n",
       "      <td>17.4</td>\n",
       "      <td>186.0</td>\n",
       "      <td>3800.0</td>\n",
       "      <td>0</td>\n",
       "    </tr>\n",
       "    <tr>\n",
       "      <th>2</th>\n",
       "      <td>Adelie</td>\n",
       "      <td>2</td>\n",
       "      <td>40.3</td>\n",
       "      <td>18.0</td>\n",
       "      <td>195.0</td>\n",
       "      <td>3250.0</td>\n",
       "      <td>0</td>\n",
       "    </tr>\n",
       "    <tr>\n",
       "      <th>4</th>\n",
       "      <td>Adelie</td>\n",
       "      <td>2</td>\n",
       "      <td>36.7</td>\n",
       "      <td>19.3</td>\n",
       "      <td>193.0</td>\n",
       "      <td>3450.0</td>\n",
       "      <td>0</td>\n",
       "    </tr>\n",
       "    <tr>\n",
       "      <th>5</th>\n",
       "      <td>Adelie</td>\n",
       "      <td>2</td>\n",
       "      <td>39.3</td>\n",
       "      <td>20.6</td>\n",
       "      <td>190.0</td>\n",
       "      <td>3650.0</td>\n",
       "      <td>1</td>\n",
       "    </tr>\n",
       "    <tr>\n",
       "      <th>...</th>\n",
       "      <td>...</td>\n",
       "      <td>...</td>\n",
       "      <td>...</td>\n",
       "      <td>...</td>\n",
       "      <td>...</td>\n",
       "      <td>...</td>\n",
       "      <td>...</td>\n",
       "    </tr>\n",
       "    <tr>\n",
       "      <th>339</th>\n",
       "      <td>Chinstrap</td>\n",
       "      <td>1</td>\n",
       "      <td>55.8</td>\n",
       "      <td>19.8</td>\n",
       "      <td>207.0</td>\n",
       "      <td>4000.0</td>\n",
       "      <td>1</td>\n",
       "    </tr>\n",
       "    <tr>\n",
       "      <th>340</th>\n",
       "      <td>Chinstrap</td>\n",
       "      <td>1</td>\n",
       "      <td>43.5</td>\n",
       "      <td>18.1</td>\n",
       "      <td>202.0</td>\n",
       "      <td>3400.0</td>\n",
       "      <td>0</td>\n",
       "    </tr>\n",
       "    <tr>\n",
       "      <th>341</th>\n",
       "      <td>Chinstrap</td>\n",
       "      <td>1</td>\n",
       "      <td>49.6</td>\n",
       "      <td>18.2</td>\n",
       "      <td>193.0</td>\n",
       "      <td>3775.0</td>\n",
       "      <td>1</td>\n",
       "    </tr>\n",
       "    <tr>\n",
       "      <th>342</th>\n",
       "      <td>Chinstrap</td>\n",
       "      <td>1</td>\n",
       "      <td>50.8</td>\n",
       "      <td>19.0</td>\n",
       "      <td>210.0</td>\n",
       "      <td>4100.0</td>\n",
       "      <td>1</td>\n",
       "    </tr>\n",
       "    <tr>\n",
       "      <th>343</th>\n",
       "      <td>Chinstrap</td>\n",
       "      <td>1</td>\n",
       "      <td>50.2</td>\n",
       "      <td>18.7</td>\n",
       "      <td>198.0</td>\n",
       "      <td>3775.0</td>\n",
       "      <td>0</td>\n",
       "    </tr>\n",
       "  </tbody>\n",
       "</table>\n",
       "<p>342 rows × 7 columns</p>\n",
       "</div>"
      ],
      "text/plain": [
       "       species  island  bill_length_mm  bill_depth_mm  flipper_length_mm  \\\n",
       "0       Adelie       2            39.1           18.7              181.0   \n",
       "1       Adelie       2            39.5           17.4              186.0   \n",
       "2       Adelie       2            40.3           18.0              195.0   \n",
       "4       Adelie       2            36.7           19.3              193.0   \n",
       "5       Adelie       2            39.3           20.6              190.0   \n",
       "..         ...     ...             ...            ...                ...   \n",
       "339  Chinstrap       1            55.8           19.8              207.0   \n",
       "340  Chinstrap       1            43.5           18.1              202.0   \n",
       "341  Chinstrap       1            49.6           18.2              193.0   \n",
       "342  Chinstrap       1            50.8           19.0              210.0   \n",
       "343  Chinstrap       1            50.2           18.7              198.0   \n",
       "\n",
       "     body_mass_g  sex  \n",
       "0         3750.0    1  \n",
       "1         3800.0    0  \n",
       "2         3250.0    0  \n",
       "4         3450.0    0  \n",
       "5         3650.0    1  \n",
       "..           ...  ...  \n",
       "339       4000.0    1  \n",
       "340       3400.0    0  \n",
       "341       3775.0    1  \n",
       "342       4100.0    1  \n",
       "343       3775.0    0  \n",
       "\n",
       "[342 rows x 7 columns]"
      ]
     },
     "execution_count": 101,
     "metadata": {},
     "output_type": "execute_result"
    }
   ],
   "source": [
    "df_clean"
   ]
  },
  {
   "cell_type": "code",
   "execution_count": 102,
   "metadata": {},
   "outputs": [],
   "source": [
    "X = df_clean.iloc[:, [1,2,3,4,5,6]].values\n",
    "y = df_clean.iloc[:, 0].values"
   ]
  },
  {
   "cell_type": "code",
   "execution_count": 103,
   "metadata": {},
   "outputs": [],
   "source": [
    "X_train, X_test, y_train, y_test = train_test_split(X, y, test_size = 0.30, random_state = 11)"
   ]
  },
  {
   "cell_type": "code",
   "execution_count": 104,
   "metadata": {},
   "outputs": [
    {
     "name": "stdout",
     "output_type": "stream",
     "text": [
      "0.9902912621359223\n"
     ]
    }
   ],
   "source": [
    "classifier = LogisticRegression()\n",
    "classifier.fit(X_train,y_train)\n",
    "y_pred=classifier.predict(X_test)\n",
    "acc=accuracy_score(y_test, y_pred)\n",
    "print(acc)"
   ]
  },
  {
   "cell_type": "code",
   "execution_count": 105,
   "metadata": {},
   "outputs": [
    {
     "name": "stdout",
     "output_type": "stream",
     "text": [
      "0.9902912621359223\n"
     ]
    }
   ],
   "source": [
    "y_pred=classifier.predict(X_test)\n",
    "acc=accuracy_score(y_test, y_pred)\n",
    "print(acc)"
   ]
  },
  {
   "cell_type": "code",
   "execution_count": 106,
   "metadata": {},
   "outputs": [
    {
     "name": "stdout",
     "output_type": "stream",
     "text": [
      "              precision    recall  f1-score   support\n",
      "\n",
      "      Adelie       1.00      0.98      0.99        42\n",
      "   Chinstrap       0.95      1.00      0.97        18\n",
      "      Gentoo       1.00      1.00      1.00        43\n",
      "\n",
      "    accuracy                           0.99       103\n",
      "   macro avg       0.98      0.99      0.99       103\n",
      "weighted avg       0.99      0.99      0.99       103\n",
      "\n"
     ]
    }
   ],
   "source": [
    "print(classification_report(y_test, y_pred))"
   ]
  },
  {
   "cell_type": "code",
   "execution_count": 107,
   "metadata": {},
   "outputs": [
    {
     "data": {
      "text/plain": [
       "0.9875"
      ]
     },
     "execution_count": 107,
     "metadata": {},
     "output_type": "execute_result"
    }
   ],
   "source": [
    "y_pred = cross_val_predict(classifier, X_test, y_test, cv = 10)\n",
    "accuracies = cross_val_score(estimator = classifier, X = X_train, y = y_train, cv = 10)\n",
    "accuracies.mean()"
   ]
  },
  {
   "cell_type": "code",
   "execution_count": 108,
   "metadata": {},
   "outputs": [
    {
     "name": "stdout",
     "output_type": "stream",
     "text": [
      "              precision    recall  f1-score   support\n",
      "\n",
      "      Adelie       0.98      0.98      0.98        42\n",
      "   Chinstrap       0.94      0.94      0.94        18\n",
      "      Gentoo       1.00      1.00      1.00        43\n",
      "\n",
      "    accuracy                           0.98       103\n",
      "   macro avg       0.97      0.97      0.97       103\n",
      "weighted avg       0.98      0.98      0.98       103\n",
      "\n"
     ]
    }
   ],
   "source": [
    "print(classification_report(y_test, y_pred))"
   ]
  },
  {
   "cell_type": "markdown",
   "metadata": {
    "id": "TAJHXHSfVLrG"
   },
   "source": [
    "## Decision Tree"
   ]
  },
  {
   "cell_type": "code",
   "execution_count": 116,
   "metadata": {},
   "outputs": [
    {
     "data": {
      "text/html": [
       "<div>\n",
       "<style scoped>\n",
       "    .dataframe tbody tr th:only-of-type {\n",
       "        vertical-align: middle;\n",
       "    }\n",
       "\n",
       "    .dataframe tbody tr th {\n",
       "        vertical-align: top;\n",
       "    }\n",
       "\n",
       "    .dataframe thead th {\n",
       "        text-align: right;\n",
       "    }\n",
       "</style>\n",
       "<table border=\"1\" class=\"dataframe\">\n",
       "  <thead>\n",
       "    <tr style=\"text-align: right;\">\n",
       "      <th></th>\n",
       "      <th>species</th>\n",
       "      <th>island</th>\n",
       "      <th>bill_length_mm</th>\n",
       "      <th>bill_depth_mm</th>\n",
       "      <th>flipper_length_mm</th>\n",
       "      <th>body_mass_g</th>\n",
       "      <th>sex</th>\n",
       "    </tr>\n",
       "  </thead>\n",
       "  <tbody>\n",
       "    <tr>\n",
       "      <th>0</th>\n",
       "      <td>Adelie</td>\n",
       "      <td>2</td>\n",
       "      <td>39.1</td>\n",
       "      <td>18.7</td>\n",
       "      <td>181.0</td>\n",
       "      <td>3750.0</td>\n",
       "      <td>1</td>\n",
       "    </tr>\n",
       "    <tr>\n",
       "      <th>1</th>\n",
       "      <td>Adelie</td>\n",
       "      <td>2</td>\n",
       "      <td>39.5</td>\n",
       "      <td>17.4</td>\n",
       "      <td>186.0</td>\n",
       "      <td>3800.0</td>\n",
       "      <td>0</td>\n",
       "    </tr>\n",
       "    <tr>\n",
       "      <th>2</th>\n",
       "      <td>Adelie</td>\n",
       "      <td>2</td>\n",
       "      <td>40.3</td>\n",
       "      <td>18.0</td>\n",
       "      <td>195.0</td>\n",
       "      <td>3250.0</td>\n",
       "      <td>0</td>\n",
       "    </tr>\n",
       "    <tr>\n",
       "      <th>4</th>\n",
       "      <td>Adelie</td>\n",
       "      <td>2</td>\n",
       "      <td>36.7</td>\n",
       "      <td>19.3</td>\n",
       "      <td>193.0</td>\n",
       "      <td>3450.0</td>\n",
       "      <td>0</td>\n",
       "    </tr>\n",
       "    <tr>\n",
       "      <th>5</th>\n",
       "      <td>Adelie</td>\n",
       "      <td>2</td>\n",
       "      <td>39.3</td>\n",
       "      <td>20.6</td>\n",
       "      <td>190.0</td>\n",
       "      <td>3650.0</td>\n",
       "      <td>1</td>\n",
       "    </tr>\n",
       "    <tr>\n",
       "      <th>...</th>\n",
       "      <td>...</td>\n",
       "      <td>...</td>\n",
       "      <td>...</td>\n",
       "      <td>...</td>\n",
       "      <td>...</td>\n",
       "      <td>...</td>\n",
       "      <td>...</td>\n",
       "    </tr>\n",
       "    <tr>\n",
       "      <th>339</th>\n",
       "      <td>Chinstrap</td>\n",
       "      <td>1</td>\n",
       "      <td>55.8</td>\n",
       "      <td>19.8</td>\n",
       "      <td>207.0</td>\n",
       "      <td>4000.0</td>\n",
       "      <td>1</td>\n",
       "    </tr>\n",
       "    <tr>\n",
       "      <th>340</th>\n",
       "      <td>Chinstrap</td>\n",
       "      <td>1</td>\n",
       "      <td>43.5</td>\n",
       "      <td>18.1</td>\n",
       "      <td>202.0</td>\n",
       "      <td>3400.0</td>\n",
       "      <td>0</td>\n",
       "    </tr>\n",
       "    <tr>\n",
       "      <th>341</th>\n",
       "      <td>Chinstrap</td>\n",
       "      <td>1</td>\n",
       "      <td>49.6</td>\n",
       "      <td>18.2</td>\n",
       "      <td>193.0</td>\n",
       "      <td>3775.0</td>\n",
       "      <td>1</td>\n",
       "    </tr>\n",
       "    <tr>\n",
       "      <th>342</th>\n",
       "      <td>Chinstrap</td>\n",
       "      <td>1</td>\n",
       "      <td>50.8</td>\n",
       "      <td>19.0</td>\n",
       "      <td>210.0</td>\n",
       "      <td>4100.0</td>\n",
       "      <td>1</td>\n",
       "    </tr>\n",
       "    <tr>\n",
       "      <th>343</th>\n",
       "      <td>Chinstrap</td>\n",
       "      <td>1</td>\n",
       "      <td>50.2</td>\n",
       "      <td>18.7</td>\n",
       "      <td>198.0</td>\n",
       "      <td>3775.0</td>\n",
       "      <td>0</td>\n",
       "    </tr>\n",
       "  </tbody>\n",
       "</table>\n",
       "<p>342 rows × 7 columns</p>\n",
       "</div>"
      ],
      "text/plain": [
       "       species  island  bill_length_mm  bill_depth_mm  flipper_length_mm  \\\n",
       "0       Adelie       2            39.1           18.7              181.0   \n",
       "1       Adelie       2            39.5           17.4              186.0   \n",
       "2       Adelie       2            40.3           18.0              195.0   \n",
       "4       Adelie       2            36.7           19.3              193.0   \n",
       "5       Adelie       2            39.3           20.6              190.0   \n",
       "..         ...     ...             ...            ...                ...   \n",
       "339  Chinstrap       1            55.8           19.8              207.0   \n",
       "340  Chinstrap       1            43.5           18.1              202.0   \n",
       "341  Chinstrap       1            49.6           18.2              193.0   \n",
       "342  Chinstrap       1            50.8           19.0              210.0   \n",
       "343  Chinstrap       1            50.2           18.7              198.0   \n",
       "\n",
       "     body_mass_g  sex  \n",
       "0         3750.0    1  \n",
       "1         3800.0    0  \n",
       "2         3250.0    0  \n",
       "4         3450.0    0  \n",
       "5         3650.0    1  \n",
       "..           ...  ...  \n",
       "339       4000.0    1  \n",
       "340       3400.0    0  \n",
       "341       3775.0    1  \n",
       "342       4100.0    1  \n",
       "343       3775.0    0  \n",
       "\n",
       "[342 rows x 7 columns]"
      ]
     },
     "execution_count": 116,
     "metadata": {},
     "output_type": "execute_result"
    }
   ],
   "source": [
    "df_clean"
   ]
  },
  {
   "cell_type": "code",
   "execution_count": 117,
   "metadata": {},
   "outputs": [],
   "source": [
    "X = df_clean.iloc[:, [1,2,3,4,5,6]].values\n",
    "y = df_clean.iloc[:, 0].values"
   ]
  },
  {
   "cell_type": "code",
   "execution_count": 118,
   "metadata": {},
   "outputs": [],
   "source": [
    "X_train, X_test, y_train, y_test = train_test_split(X, y, test_size = 0.30, random_state = 11)"
   ]
  },
  {
   "cell_type": "code",
   "execution_count": 119,
   "metadata": {
    "id": "EQyN7IHsVPeQ"
   },
   "outputs": [
    {
     "name": "stdout",
     "output_type": "stream",
     "text": [
      "0.970873786407767\n"
     ]
    }
   ],
   "source": [
    "classifier=DecisionTreeClassifier()\n",
    "classifier.fit(X_train,y_train)\n",
    "y_pred=classifier.predict(X_test)\n",
    "acc=accuracy_score(y_test, y_pred)\n",
    "print(acc)"
   ]
  },
  {
   "cell_type": "code",
   "execution_count": 120,
   "metadata": {},
   "outputs": [
    {
     "name": "stdout",
     "output_type": "stream",
     "text": [
      "0.970873786407767\n"
     ]
    }
   ],
   "source": [
    "y_pred=classifier.predict(X_test)\n",
    "acc=accuracy_score(y_test, y_pred)\n",
    "print(acc)"
   ]
  },
  {
   "cell_type": "code",
   "execution_count": 121,
   "metadata": {},
   "outputs": [
    {
     "name": "stdout",
     "output_type": "stream",
     "text": [
      "              precision    recall  f1-score   support\n",
      "\n",
      "      Adelie       0.95      0.98      0.96        42\n",
      "   Chinstrap       0.94      0.94      0.94        18\n",
      "      Gentoo       1.00      0.98      0.99        43\n",
      "\n",
      "    accuracy                           0.97       103\n",
      "   macro avg       0.97      0.97      0.97       103\n",
      "weighted avg       0.97      0.97      0.97       103\n",
      "\n"
     ]
    }
   ],
   "source": [
    "print(classification_report(y_test, y_pred))"
   ]
  },
  {
   "cell_type": "code",
   "execution_count": 122,
   "metadata": {},
   "outputs": [
    {
     "data": {
      "text/plain": [
       "0.975"
      ]
     },
     "execution_count": 122,
     "metadata": {},
     "output_type": "execute_result"
    }
   ],
   "source": [
    "y_pred = cross_val_predict(classifier, X_test, y_test, cv = 10)\n",
    "accuracies = cross_val_score(estimator = classifier, X = X_train, y = y_train, cv = 10)\n",
    "accuracies.mean()"
   ]
  },
  {
   "cell_type": "code",
   "execution_count": 123,
   "metadata": {},
   "outputs": [
    {
     "name": "stdout",
     "output_type": "stream",
     "text": [
      "              precision    recall  f1-score   support\n",
      "\n",
      "      Adelie       0.98      0.95      0.96        42\n",
      "   Chinstrap       0.84      0.89      0.86        18\n",
      "      Gentoo       0.98      0.98      0.98        43\n",
      "\n",
      "    accuracy                           0.95       103\n",
      "   macro avg       0.93      0.94      0.94       103\n",
      "weighted avg       0.95      0.95      0.95       103\n",
      "\n"
     ]
    }
   ],
   "source": [
    "print(classification_report(y_test, y_pred))"
   ]
  },
  {
   "cell_type": "markdown",
   "metadata": {
    "id": "zTJ5qDHwXH5i"
   },
   "source": [
    "\n",
    "\n",
    "--------------\n",
    "\n"
   ]
  },
  {
   "cell_type": "markdown",
   "metadata": {
    "id": "6h3IjT3GXQb2"
   },
   "source": [
    "# Selesai 🐈"
   ]
  }
 ],
 "metadata": {
  "colab": {
   "provenance": [],
   "toc_visible": true
  },
  "kernelspec": {
   "display_name": "Python 3 (ipykernel)",
   "language": "python",
   "name": "python3"
  },
  "language_info": {
   "codemirror_mode": {
    "name": "ipython",
    "version": 3
   },
   "file_extension": ".py",
   "mimetype": "text/x-python",
   "name": "python",
   "nbconvert_exporter": "python",
   "pygments_lexer": "ipython3",
   "version": "3.9.12"
  }
 },
 "nbformat": 4,
 "nbformat_minor": 4
}
