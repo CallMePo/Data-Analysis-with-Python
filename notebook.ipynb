{
 "cells": [
  {
   "cell_type": "code",
   "execution_count": null,
   "metadata": {
    "is_executing": true
   },
   "outputs": [],
   "source": [
    "import pandas as pd\n",
    "import matplotlib.pyplot as plt\n",
    "import seaborn as sns\n",
    "\n",
    "data=pd.read_csv(\"D:\\Data Visualization\\data.csv\")\n",
    "data"
   ]
  },
  {
   "cell_type": "code",
   "execution_count": 2,
   "metadata": {},
   "outputs": [
    {
     "ename": "ValueError",
     "evalue": "Cannot pass values for both `x` and `y`",
     "output_type": "error",
     "traceback": [
      "\u001B[1;31m---------------------------------------------------------------------------\u001B[0m",
      "\u001B[1;31mValueError\u001B[0m                                Traceback (most recent call last)",
      "\u001B[1;32md:\\Data Visualization\\notebook.ipynb Cell 2\u001B[0m in \u001B[0;36m1\n\u001B[1;32m----> <a href='vscode-notebook-cell:/d%3A/Data%20Visualization/notebook.ipynb#W1sZmlsZQ%3D%3D?line=0'>1</a>\u001B[0m sns\u001B[39m.\u001B[39;49mcountplot(data, x\u001B[39m=\u001B[39;49m\u001B[39m'\u001B[39;49m\u001B[39mUmur\u001B[39;49m\u001B[39m'\u001B[39;49m, y\u001B[39m=\u001B[39;49m\u001B[39m'\u001B[39;49m\u001B[39mFrekuensi pemesanan menggunakan GrabFood dalam satu minggu\u001B[39;49m\u001B[39m'\u001B[39;49m, hue\u001B[39m=\u001B[39;49mdata[\u001B[39m'\u001B[39;49m\u001B[39mUang Saku per Bulan\u001B[39;49m\u001B[39m'\u001B[39;49m])\n\u001B[0;32m      <a href='vscode-notebook-cell:/d%3A/Data%20Visualization/notebook.ipynb#W1sZmlsZQ%3D%3D?line=1'>2</a>\u001B[0m plt\u001B[39m.\u001B[39mshow()\n",
      "File \u001B[1;32mc:\\Users\\atrke\\AppData\\Local\\Programs\\Python\\Python39\\lib\\site-packages\\seaborn\\categorical.py:2941\u001B[0m, in \u001B[0;36mcountplot\u001B[1;34m(data, x, y, hue, order, hue_order, orient, color, palette, saturation, width, dodge, ax, **kwargs)\u001B[0m\n\u001B[0;32m   2939\u001B[0m     y \u001B[39m=\u001B[39m x\n\u001B[0;32m   2940\u001B[0m \u001B[39melif\u001B[39;00m x \u001B[39mis\u001B[39;00m \u001B[39mnot\u001B[39;00m \u001B[39mNone\u001B[39;00m \u001B[39mand\u001B[39;00m y \u001B[39mis\u001B[39;00m \u001B[39mnot\u001B[39;00m \u001B[39mNone\u001B[39;00m:\n\u001B[1;32m-> 2941\u001B[0m     \u001B[39mraise\u001B[39;00m \u001B[39mValueError\u001B[39;00m(\u001B[39m\"\u001B[39m\u001B[39mCannot pass values for both `x` and `y`\u001B[39m\u001B[39m\"\u001B[39m)\n\u001B[0;32m   2943\u001B[0m plotter \u001B[39m=\u001B[39m _CountPlotter(\n\u001B[0;32m   2944\u001B[0m     x, y, hue, data, order, hue_order,\n\u001B[0;32m   2945\u001B[0m     estimator, errorbar, n_boot, units, seed,\n\u001B[0;32m   2946\u001B[0m     orient, color, palette, saturation,\n\u001B[0;32m   2947\u001B[0m     width, errcolor, errwidth, capsize, dodge\n\u001B[0;32m   2948\u001B[0m )\n\u001B[0;32m   2950\u001B[0m plotter\u001B[39m.\u001B[39mvalue_label \u001B[39m=\u001B[39m \u001B[39m\"\u001B[39m\u001B[39mcount\u001B[39m\u001B[39m\"\u001B[39m\n",
      "\u001B[1;31mValueError\u001B[0m: Cannot pass values for both `x` and `y`"
     ]
    }
   ],
   "source": [
    "sns.countplot(data, x='Umur', y='Frekuensi pemesanan menggunakan GrabFood dalam satu minggu', hue=data['Uang Saku per Bulan'])\n",
    "plt.show()"
   ]
  }
 ],
 "metadata": {
  "kernelspec": {
   "display_name": "Python 3",
   "language": "python",
   "name": "python3"
  },
  "language_info": {
   "codemirror_mode": {
    "name": "ipython",
    "version": 3
   },
   "file_extension": ".py",
   "mimetype": "text/x-python",
   "name": "python",
   "nbconvert_exporter": "python",
   "pygments_lexer": "ipython3",
   "version": "3.9.12"
  },
  "orig_nbformat": 4
 },
 "nbformat": 4,
 "nbformat_minor": 2
}
