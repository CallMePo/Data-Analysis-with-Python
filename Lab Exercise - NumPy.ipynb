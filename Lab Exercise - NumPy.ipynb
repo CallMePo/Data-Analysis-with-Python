{
 "cells": [
  {
   "cell_type": "code",
   "execution_count": 1,
   "id": "ab2bddf9-5ad4-4b6e-9cbb-6b62495cdf22",
   "metadata": {},
   "outputs": [
    {
     "name": "stdout",
     "output_type": "stream",
     "text": [
      "[0. 0. 0. 0. 0. 0. 0. 0. 0. 0. 0. 0. 0. 0. 0. 0. 0. 0. 0. 0.]\n"
     ]
    }
   ],
   "source": [
    "import numpy as np\n",
    "a=np.zeros(20)\n",
    "print(a)"
   ]
  },
  {
   "cell_type": "code",
   "execution_count": 2,
   "id": "c6abd217-6ecb-4bd5-987e-2a4c59ee858f",
   "metadata": {},
   "outputs": [
    {
     "name": "stdout",
     "output_type": "stream",
     "text": [
      "[0. 0. 0. 5. 0. 0. 0. 0. 0. 0. 0. 0. 0. 0. 0. 0. 0. 0. 0. 0.]\n"
     ]
    }
   ],
   "source": [
    "a[3]=5\n",
    "print(a)"
   ]
  },
  {
   "cell_type": "code",
   "execution_count": 14,
   "id": "671d11ad-638d-4b81-8854-b7dc1ade6421",
   "metadata": {},
   "outputs": [
    {
     "name": "stdout",
     "output_type": "stream",
     "text": [
      "[1. 1. 1. 1. 1. 1. 1. 1. 1. 1. 1. 1. 1. 1. 1. 1. 1. 1. 1. 1.]\n",
      "[1. 1. 1. 1. 1. 1. 1. 1. 1. 1. 1. 1. 1. 1. 1. 1. 1. 1. 1. 1.]\n"
     ]
    }
   ],
   "source": [
    "array_master=np.ones(20)\n",
    "array_copy=array_master.copy()\n",
    "print(array_master)\n",
    "print(array_copy)"
   ]
  },
  {
   "cell_type": "code",
   "execution_count": 6,
   "id": "aa8c9ba3-021b-4d89-9a83-fc84caf9dcf0",
   "metadata": {},
   "outputs": [
    {
     "name": "stdout",
     "output_type": "stream",
     "text": [
      "[100. 100. 100. 100. 100. 100. 100. 100. 100. 100. 100. 100. 100. 100.\n",
      " 100. 100. 100. 100. 100. 100. 100. 100. 100. 100. 100. 100. 100. 100.\n",
      " 100. 100.]\n"
     ]
    }
   ],
   "source": [
    "c=np.ones(30)\n",
    "c[:]=100\n",
    "print(c)"
   ]
  },
  {
   "cell_type": "code",
   "execution_count": 9,
   "id": "654a82c5-bad5-4a0f-8280-62907c47ae3e",
   "metadata": {},
   "outputs": [
    {
     "name": "stdout",
     "output_type": "stream",
     "text": [
      "[21 22 23 24 25 26 27 28 29 30]\n",
      "[11 12 13 14 15 16 17 18 19 20]\n",
      "[10 10 10 10 10 10 10 10 10 10]\n"
     ]
    }
   ],
   "source": [
    "array1=np.arange(21,31)\n",
    "array2=np.arange(11,21)\n",
    "r=array1 - array2\n",
    "print(array1)\n",
    "print(array2)\n",
    "print(r)"
   ]
  },
  {
   "cell_type": "code",
   "execution_count": 12,
   "id": "920d4795-4e5f-43d0-9848-69bc95f96ebd",
   "metadata": {},
   "outputs": [
    {
     "name": "stdout",
     "output_type": "stream",
     "text": [
      "[[ 2  4  6  8 10]\n",
      " [22 24 26 28 30]]\n"
     ]
    }
   ],
   "source": [
    "a1=np.arange(2,11,2)\n",
    "a2=np.arange(22,31,2)\n",
    "c=np.stack((a1,a2))\n",
    "print(c)"
   ]
  },
  {
   "cell_type": "code",
   "execution_count": 13,
   "id": "0986aa70-feb4-4387-bb86-9600cd737b63",
   "metadata": {},
   "outputs": [
    {
     "name": "stdout",
     "output_type": "stream",
     "text": [
      "[[ 2 22]\n",
      " [ 4 24]\n",
      " [ 6 26]\n",
      " [ 8 28]\n",
      " [10 30]]\n"
     ]
    }
   ],
   "source": [
    "d=np.column_stack((a1,a2))\n",
    "print(d)"
   ]
  },
  {
   "cell_type": "code",
   "execution_count": 18,
   "id": "53f13271-9ac8-4b50-a5b6-4814f4ccecfb",
   "metadata": {},
   "outputs": [
    {
     "name": "stdout",
     "output_type": "stream",
     "text": [
      "[[ 0  1  2  3  4  5]\n",
      " [ 6  7  8  9 10 11]\n",
      " [12 13 14 15 16 17]\n",
      " [18 19 20 21 22 23]\n",
      " [24 25 26 27 28 29]]\n",
      "8\n"
     ]
    }
   ],
   "source": [
    "#Create a 5x6 matrix with values ranging from 0 to 29 and retrieve the value intersecting at 2nd row and 3rd column\n",
    "array=np.arange(30).reshape(5,6)\n",
    "print(array)\n",
    "print(array[1,2])"
   ]
  },
  {
   "cell_type": "code",
   "execution_count": 23,
   "id": "c8c89e83-49c5-4d89-839d-f519a599ca8b",
   "metadata": {},
   "outputs": [
    {
     "name": "stdout",
     "output_type": "stream",
     "text": [
      "[[ 1. 21. 21. 21. 21. 21. 21. 21. 21. 21.]\n",
      " [21.  1. 21. 21. 21. 21. 21. 21. 21. 21.]\n",
      " [21. 21.  1. 21. 21. 21. 21. 21. 21. 21.]\n",
      " [21. 21. 21.  1. 21. 21. 21. 21. 21. 21.]\n",
      " [21. 21. 21. 21.  1. 21. 21. 21. 21. 21.]\n",
      " [21. 21. 21. 21. 21.  1. 21. 21. 21. 21.]\n",
      " [21. 21. 21. 21. 21. 21.  1. 21. 21. 21.]\n",
      " [21. 21. 21. 21. 21. 21. 21.  1. 21. 21.]\n",
      " [21. 21. 21. 21. 21. 21. 21. 21.  1. 21.]\n",
      " [21. 21. 21. 21. 21. 21. 21. 21. 21.  1.]]\n"
     ]
    }
   ],
   "source": [
    "#Create an identity matrix of shape 10x10 and replace the 0's with the value 21\n",
    "arr=np.eye(10)\n",
    "arr[arr==0]=21\n",
    "print(arr)"
   ]
  },
  {
   "cell_type": "code",
   "execution_count": 26,
   "id": "5f38066e-c786-4816-9502-8e3ddb9dc532",
   "metadata": {},
   "outputs": [
    {
     "name": "stdout",
     "output_type": "stream",
     "text": [
      "[0.11428327 0.59171988 0.60698712 0.68283854 0.94338118 0.8313911\n",
      " 0.79036811 0.14122521 0.63060023 0.70309521]\n",
      "[False  True  True  True  True  True  True False  True  True]\n"
     ]
    }
   ],
   "source": [
    "#Use NumPy to generate a random set of 10 numbers between 0 and 1\n",
    "array=np.random.rand(10)\n",
    "print(array)\n",
    "\t#Display a boolean array output where all values > 0.2 are True, rest are marked as False\n",
    "print(array>0.2)\n"
   ]
  },
  {
   "cell_type": "code",
   "execution_count": 27,
   "id": "664d9ea4-519f-4b0d-b53a-32bc93570045",
   "metadata": {},
   "outputs": [
    {
     "name": "stdout",
     "output_type": "stream",
     "text": [
      "[[0.90327218 0.64322087]\n",
      " [0.00953401 0.19669234]\n",
      " [0.26042473 0.22813242]\n",
      " [0.24681299 0.64528885]\n",
      " [0.57599342 0.52900367]]\n"
     ]
    }
   ],
   "source": [
    "#Use NumPy to generate an array matrix of 5x2 random numbers sampled from a standard normal distribution\n",
    "arr=np.random.rand(5,2)\n",
    "print(arr)"
   ]
  },
  {
   "cell_type": "code",
   "execution_count": 28,
   "id": "54f781cf-c1a9-49a3-9217-d317abda7ee3",
   "metadata": {},
   "outputs": [
    {
     "name": "stdout",
     "output_type": "stream",
     "text": [
      "[  0.           3.44827586   6.89655172  10.34482759  13.79310345\n",
      "  17.24137931  20.68965517  24.13793103  27.5862069   31.03448276\n",
      "  34.48275862  37.93103448  41.37931034  44.82758621  48.27586207\n",
      "  51.72413793  55.17241379  58.62068966  62.06896552  65.51724138\n",
      "  68.96551724  72.4137931   75.86206897  79.31034483  82.75862069\n",
      "  86.20689655  89.65517241  93.10344828  96.55172414 100.        ]\n"
     ]
    }
   ],
   "source": [
    "#Create an array of 30 linearly spaced points between 0 and 100:\n",
    "arr=np.linspace(0,100,30)\n",
    "print(arr)"
   ]
  },
  {
   "cell_type": "raw",
   "id": "57705aae-ad15-4337-805c-1c567c2b5604",
   "metadata": {},
   "source": [
    "NumPy Indexing and Selections"
   ]
  },
  {
   "cell_type": "code",
   "execution_count": 47,
   "id": "15f53441-c878-4628-a652-ad1b07d3998e",
   "metadata": {},
   "outputs": [
    {
     "name": "stdout",
     "output_type": "stream",
     "text": [
      "[[  1   2   3   4   5   6   7   8   9  10]\n",
      " [ 11  12  13  14  15  16  17  18  19  20]\n",
      " [ 21  22  23  24  25  26  27  28  29  30]\n",
      " [ 31  32  33  34  35  36  37  38  39  40]\n",
      " [ 41  42  43  44  45  46  47  48  49  50]\n",
      " [ 51  52  53  54  55  56  57  58  59  60]\n",
      " [ 61  62  63  64  65  66  67  68  69  70]\n",
      " [ 71  72  73  74  75  76  77  78  79  80]\n",
      " [ 81  82  83  84  85  86  87  88  89  90]\n",
      " [ 91  92  93  94  95  96  97  98  99 100]]\n"
     ]
    },
    {
     "data": {
      "text/plain": [
       "array([[11, 12, 13, 14, 15, 16, 17, 18, 19, 20],\n",
       "       [31, 32, 33, 34, 35, 36, 37, 38, 39, 40]])"
      ]
     },
     "execution_count": 47,
     "metadata": {},
     "output_type": "execute_result"
    }
   ],
   "source": [
    "#Using the below given Matrix, generate the output for the below questions\n",
    "simple_matrix = np.arange(1,101).reshape(10,10)\n",
    "print(simple_matrix)\n",
    "#a) Retrieve the last 2 rows and first 3 column values of the above matrix using index & selection technique\n",
    "a=simple_matrix[8:,0:3]\n",
    "a\n",
    "#b) Retrieve the value 55 from the above matrix using index & selection technique\n",
    "b=simple_matrix[5,4]\n",
    "b\n",
    "#c) Retrieve the values from the 3rd column in the above matrix\n",
    "c=simple_matrix[:,2]\n",
    "c\n",
    "#) Retrieve the values from the 4th row in the above matrix\n",
    "d=simple_matrix[3,:]\n",
    "d\n",
    "#e) Retrieve values from the 2nd & 4th rows in the above matrix\n",
    "e=simple_matrix[(1,3),:]\n",
    "e"
   ]
  },
  {
   "cell_type": "raw",
   "id": "4bffddc8-2543-490f-8837-ccd91333eb78",
   "metadata": {},
   "source": [
    "Calculate the Matrix"
   ]
  },
  {
   "cell_type": "code",
   "execution_count": 49,
   "id": "7ad1d7ac-1a5f-4c84-8ed8-70b8f3454729",
   "metadata": {},
   "outputs": [
    {
     "data": {
      "text/plain": [
       "5050"
      ]
     },
     "execution_count": 49,
     "metadata": {},
     "output_type": "execute_result"
    }
   ],
   "source": [
    "#a) Calculate sum of all the values in the matrix\n",
    "a=simple_matrix.sum()\n",
    "a"
   ]
  },
  {
   "cell_type": "code",
   "execution_count": 50,
   "id": "4d8f9d6a-1bd0-471d-9653-e148b5705956",
   "metadata": {},
   "outputs": [
    {
     "data": {
      "text/plain": [
       "28.86607004772212"
      ]
     },
     "execution_count": 50,
     "metadata": {},
     "output_type": "execute_result"
    }
   ],
   "source": [
    "#b) Calculate standard deviation of all the values in the matrix\n",
    "b=simple_matrix.std()\n",
    "b"
   ]
  },
  {
   "cell_type": "code",
   "execution_count": 51,
   "id": "ca0220a7-d912-44a2-84f8-a9d8f3d71965",
   "metadata": {},
   "outputs": [
    {
     "data": {
      "text/plain": [
       "833.25"
      ]
     },
     "execution_count": 51,
     "metadata": {},
     "output_type": "execute_result"
    }
   ],
   "source": [
    "#c) Calculate the variance of all values in the matrix\n",
    "c=simple_matrix.var()\n",
    "c"
   ]
  },
  {
   "cell_type": "code",
   "execution_count": 52,
   "id": "58a34551-dd47-4af4-8334-06f262ae5ba4",
   "metadata": {},
   "outputs": [
    {
     "data": {
      "text/plain": [
       "50.5"
      ]
     },
     "execution_count": 52,
     "metadata": {},
     "output_type": "execute_result"
    }
   ],
   "source": [
    "#d) Calculate the mean of all values in the matrix\n",
    "d=simple_matrix.mean()\n",
    "d"
   ]
  },
  {
   "cell_type": "code",
   "execution_count": 53,
   "id": "4b2ae752-fbc3-4ed0-aec3-faff0338a13f",
   "metadata": {},
   "outputs": [
    {
     "data": {
      "text/plain": [
       "100"
      ]
     },
     "execution_count": 53,
     "metadata": {},
     "output_type": "execute_result"
    }
   ],
   "source": [
    "#e) Retrieve the largest number from the matrix\n",
    "e=simple_matrix.max()\n",
    "e"
   ]
  },
  {
   "cell_type": "code",
   "execution_count": 54,
   "id": "358b99d2-c040-4f9f-9572-9c2c0a66d83d",
   "metadata": {},
   "outputs": [
    {
     "data": {
      "text/plain": [
       "1"
      ]
     },
     "execution_count": 54,
     "metadata": {},
     "output_type": "execute_result"
    }
   ],
   "source": [
    "#f) Retrieve the smallest number from the matrix\n",
    "f=simple_matrix.min()\n",
    "f"
   ]
  },
  {
   "cell_type": "code",
   "execution_count": null,
   "id": "94294aed-f9c4-454d-ba25-28104002a952",
   "metadata": {},
   "outputs": [],
   "source": []
  }
 ],
 "metadata": {
  "kernelspec": {
   "display_name": "Python 3 (ipykernel)",
   "language": "python",
   "name": "python3"
  },
  "language_info": {
   "codemirror_mode": {
    "name": "ipython",
    "version": 3
   },
   "file_extension": ".py",
   "mimetype": "text/x-python",
   "name": "python",
   "nbconvert_exporter": "python",
   "pygments_lexer": "ipython3",
   "version": "3.9.12"
  }
 },
 "nbformat": 4,
 "nbformat_minor": 5
}
